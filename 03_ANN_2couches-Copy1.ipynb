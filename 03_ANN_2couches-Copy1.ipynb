{
 "cells": [
  {
   "cell_type": "markdown",
   "metadata": {},
   "source": [
    "**IMPORTATION DES PACKAGES**"
   ]
  },
  {
   "cell_type": "code",
   "execution_count": 41,
   "metadata": {},
   "outputs": [],
   "source": [
    "import numpy as np\n",
    "import matplotlib.pyplot as plt\n",
    "from sklearn.datasets import make_blobs, make_circles\n",
    "from sklearn.metrics import accuracy_score, log_loss\n",
    "from sklearn.metrics import precision_score, recall_score, f1_score, accuracy_score, confusion_matrix , roc_auc_score\n",
    "from tqdm import tqdm"
   ]
  },
  {
   "cell_type": "markdown",
   "metadata": {},
   "source": [
    "**IMPORTATION DES DONNEES**"
   ]
  },
  {
   "cell_type": "code",
   "execution_count": 42,
   "metadata": {},
   "outputs": [],
   "source": [
    "import pandas as pd\n",
    "from sklearn.model_selection import train_test_split\n",
    "\n",
    "DS = pd.read_csv(r\"C:\\Users\\issad\\Desktop\\Base donnée mémoire 3\\Memoire Final\\Modèle_DAO\\Bank_Bon23.csv\", sep=';')"
   ]
  },
  {
   "cell_type": "code",
   "execution_count": 43,
   "metadata": {},
   "outputs": [
    {
     "data": {
      "text/html": [
       "<div>\n",
       "<style scoped>\n",
       "    .dataframe tbody tr th:only-of-type {\n",
       "        vertical-align: middle;\n",
       "    }\n",
       "\n",
       "    .dataframe tbody tr th {\n",
       "        vertical-align: top;\n",
       "    }\n",
       "\n",
       "    .dataframe thead th {\n",
       "        text-align: right;\n",
       "    }\n",
       "</style>\n",
       "<table border=\"1\" class=\"dataframe\">\n",
       "  <thead>\n",
       "    <tr style=\"text-align: right;\">\n",
       "      <th></th>\n",
       "      <th>Age</th>\n",
       "      <th>Risque_du_secteur</th>\n",
       "      <th>freq_depots</th>\n",
       "      <th>freq_des_retraits</th>\n",
       "      <th>Lieux_de_residence</th>\n",
       "      <th>Type_de_client</th>\n",
       "      <th>M_depot</th>\n",
       "      <th>M_retrait</th>\n",
       "      <th>M_recu</th>\n",
       "      <th>M_envoye</th>\n",
       "      <th>Z_t_recu</th>\n",
       "      <th>Z_t_envoye</th>\n",
       "      <th>Blanchiment</th>\n",
       "    </tr>\n",
       "  </thead>\n",
       "  <tbody>\n",
       "    <tr>\n",
       "      <th>0</th>\n",
       "      <td>31</td>\n",
       "      <td>0</td>\n",
       "      <td>19</td>\n",
       "      <td>13</td>\n",
       "      <td>1</td>\n",
       "      <td>1</td>\n",
       "      <td>393411</td>\n",
       "      <td>6884485</td>\n",
       "      <td>4565541</td>\n",
       "      <td>8507601</td>\n",
       "      <td>0</td>\n",
       "      <td>0</td>\n",
       "      <td>0</td>\n",
       "    </tr>\n",
       "    <tr>\n",
       "      <th>1</th>\n",
       "      <td>2</td>\n",
       "      <td>1</td>\n",
       "      <td>8</td>\n",
       "      <td>3</td>\n",
       "      <td>1</td>\n",
       "      <td>1</td>\n",
       "      <td>3289866</td>\n",
       "      <td>5865900</td>\n",
       "      <td>1583300</td>\n",
       "      <td>7041768</td>\n",
       "      <td>0</td>\n",
       "      <td>0</td>\n",
       "      <td>0</td>\n",
       "    </tr>\n",
       "    <tr>\n",
       "      <th>2</th>\n",
       "      <td>58</td>\n",
       "      <td>0</td>\n",
       "      <td>18</td>\n",
       "      <td>0</td>\n",
       "      <td>1</td>\n",
       "      <td>0</td>\n",
       "      <td>6197348</td>\n",
       "      <td>3103942</td>\n",
       "      <td>9434881</td>\n",
       "      <td>910070</td>\n",
       "      <td>0</td>\n",
       "      <td>1</td>\n",
       "      <td>0</td>\n",
       "    </tr>\n",
       "    <tr>\n",
       "      <th>3</th>\n",
       "      <td>24</td>\n",
       "      <td>0</td>\n",
       "      <td>13</td>\n",
       "      <td>26</td>\n",
       "      <td>0</td>\n",
       "      <td>0</td>\n",
       "      <td>5844268</td>\n",
       "      <td>1928525</td>\n",
       "      <td>4449115</td>\n",
       "      <td>6208713</td>\n",
       "      <td>0</td>\n",
       "      <td>0</td>\n",
       "      <td>0</td>\n",
       "    </tr>\n",
       "    <tr>\n",
       "      <th>4</th>\n",
       "      <td>41</td>\n",
       "      <td>0</td>\n",
       "      <td>7</td>\n",
       "      <td>1</td>\n",
       "      <td>0</td>\n",
       "      <td>0</td>\n",
       "      <td>879409</td>\n",
       "      <td>2367918</td>\n",
       "      <td>5351429</td>\n",
       "      <td>7804008</td>\n",
       "      <td>0</td>\n",
       "      <td>0</td>\n",
       "      <td>0</td>\n",
       "    </tr>\n",
       "  </tbody>\n",
       "</table>\n",
       "</div>"
      ],
      "text/plain": [
       "   Age  Risque_du_secteur  freq_depots  freq_des_retraits  Lieux_de_residence  \\\n",
       "0   31                  0           19                 13                   1   \n",
       "1    2                  1            8                  3                   1   \n",
       "2   58                  0           18                  0                   1   \n",
       "3   24                  0           13                 26                   0   \n",
       "4   41                  0            7                  1                   0   \n",
       "\n",
       "   Type_de_client  M_depot  M_retrait   M_recu  M_envoye  Z_t_recu  \\\n",
       "0               1   393411    6884485  4565541   8507601         0   \n",
       "1               1  3289866    5865900  1583300   7041768         0   \n",
       "2               0  6197348    3103942  9434881    910070         0   \n",
       "3               0  5844268    1928525  4449115   6208713         0   \n",
       "4               0   879409    2367918  5351429   7804008         0   \n",
       "\n",
       "   Z_t_envoye  Blanchiment  \n",
       "0           0            0  \n",
       "1           0            0  \n",
       "2           1            0  \n",
       "3           0            0  \n",
       "4           0            0  "
      ]
     },
     "execution_count": 43,
     "metadata": {},
     "output_type": "execute_result"
    }
   ],
   "source": [
    "DS.head(5) "
   ]
  },
  {
   "cell_type": "code",
   "execution_count": 44,
   "metadata": {},
   "outputs": [],
   "source": [
    "# les colonnes de caractéristiques (X) et la cible (y)\n",
    "\n",
    "X = DS.drop('Blanchiment', axis=1)  # Toutes les colonnes sauf 'target'\n",
    "y = DS['Blanchiment']  # La colonne cible"
   ]
  },
  {
   "cell_type": "code",
   "execution_count": 45,
   "metadata": {},
   "outputs": [
    {
     "name": "stdout",
     "output_type": "stream",
     "text": [
      "Blanchiment\n",
      "0    96.208\n",
      "1     3.792\n",
      "Name: proportion, dtype: float64\n"
     ]
    }
   ],
   "source": [
    "# Calculer la distribution des valeurs (en pourcentage)\n",
    "taux = y.value_counts(normalize=True) * 100\n",
    "\n",
    "# Afficher les résultats\n",
    "print(taux)"
   ]
  },
  {
   "cell_type": "code",
   "execution_count": 46,
   "metadata": {},
   "outputs": [],
   "source": [
    "def safe_to_numeric(series):\n",
    "    try:\n",
    "        return pd.to_numeric(series)\n",
    "    except Exception:\n",
    "        return series  # laisser tel quel si erreur\n",
    "\n",
    "X = X.apply(safe_to_numeric)\n",
    "y = y.apply(safe_to_numeric)"
   ]
  },
  {
   "cell_type": "code",
   "execution_count": 47,
   "metadata": {
    "scrolled": true
   },
   "outputs": [
    {
     "data": {
      "text/html": [
       "<div>\n",
       "<style scoped>\n",
       "    .dataframe tbody tr th:only-of-type {\n",
       "        vertical-align: middle;\n",
       "    }\n",
       "\n",
       "    .dataframe tbody tr th {\n",
       "        vertical-align: top;\n",
       "    }\n",
       "\n",
       "    .dataframe thead th {\n",
       "        text-align: right;\n",
       "    }\n",
       "</style>\n",
       "<table border=\"1\" class=\"dataframe\">\n",
       "  <thead>\n",
       "    <tr style=\"text-align: right;\">\n",
       "      <th></th>\n",
       "      <th>Age</th>\n",
       "      <th>Risque_du_secteur</th>\n",
       "      <th>freq_depots</th>\n",
       "      <th>freq_des_retraits</th>\n",
       "      <th>Lieux_de_residence</th>\n",
       "      <th>Type_de_client</th>\n",
       "      <th>M_depot</th>\n",
       "      <th>M_retrait</th>\n",
       "      <th>M_recu</th>\n",
       "      <th>M_envoye</th>\n",
       "      <th>Z_t_recu</th>\n",
       "      <th>Z_t_envoye</th>\n",
       "    </tr>\n",
       "  </thead>\n",
       "  <tbody>\n",
       "    <tr>\n",
       "      <th>0</th>\n",
       "      <td>31</td>\n",
       "      <td>0</td>\n",
       "      <td>19</td>\n",
       "      <td>13</td>\n",
       "      <td>1</td>\n",
       "      <td>1</td>\n",
       "      <td>393411</td>\n",
       "      <td>6884485</td>\n",
       "      <td>4565541</td>\n",
       "      <td>8507601</td>\n",
       "      <td>0</td>\n",
       "      <td>0</td>\n",
       "    </tr>\n",
       "    <tr>\n",
       "      <th>1</th>\n",
       "      <td>2</td>\n",
       "      <td>1</td>\n",
       "      <td>8</td>\n",
       "      <td>3</td>\n",
       "      <td>1</td>\n",
       "      <td>1</td>\n",
       "      <td>3289866</td>\n",
       "      <td>5865900</td>\n",
       "      <td>1583300</td>\n",
       "      <td>7041768</td>\n",
       "      <td>0</td>\n",
       "      <td>0</td>\n",
       "    </tr>\n",
       "    <tr>\n",
       "      <th>2</th>\n",
       "      <td>58</td>\n",
       "      <td>0</td>\n",
       "      <td>18</td>\n",
       "      <td>0</td>\n",
       "      <td>1</td>\n",
       "      <td>0</td>\n",
       "      <td>6197348</td>\n",
       "      <td>3103942</td>\n",
       "      <td>9434881</td>\n",
       "      <td>910070</td>\n",
       "      <td>0</td>\n",
       "      <td>1</td>\n",
       "    </tr>\n",
       "    <tr>\n",
       "      <th>3</th>\n",
       "      <td>24</td>\n",
       "      <td>0</td>\n",
       "      <td>13</td>\n",
       "      <td>26</td>\n",
       "      <td>0</td>\n",
       "      <td>0</td>\n",
       "      <td>5844268</td>\n",
       "      <td>1928525</td>\n",
       "      <td>4449115</td>\n",
       "      <td>6208713</td>\n",
       "      <td>0</td>\n",
       "      <td>0</td>\n",
       "    </tr>\n",
       "    <tr>\n",
       "      <th>4</th>\n",
       "      <td>41</td>\n",
       "      <td>0</td>\n",
       "      <td>7</td>\n",
       "      <td>1</td>\n",
       "      <td>0</td>\n",
       "      <td>0</td>\n",
       "      <td>879409</td>\n",
       "      <td>2367918</td>\n",
       "      <td>5351429</td>\n",
       "      <td>7804008</td>\n",
       "      <td>0</td>\n",
       "      <td>0</td>\n",
       "    </tr>\n",
       "  </tbody>\n",
       "</table>\n",
       "</div>"
      ],
      "text/plain": [
       "   Age  Risque_du_secteur  freq_depots  freq_des_retraits  Lieux_de_residence  \\\n",
       "0   31                  0           19                 13                   1   \n",
       "1    2                  1            8                  3                   1   \n",
       "2   58                  0           18                  0                   1   \n",
       "3   24                  0           13                 26                   0   \n",
       "4   41                  0            7                  1                   0   \n",
       "\n",
       "   Type_de_client  M_depot  M_retrait   M_recu  M_envoye  Z_t_recu  Z_t_envoye  \n",
       "0               1   393411    6884485  4565541   8507601         0           0  \n",
       "1               1  3289866    5865900  1583300   7041768         0           0  \n",
       "2               0  6197348    3103942  9434881    910070         0           1  \n",
       "3               0  5844268    1928525  4449115   6208713         0           0  \n",
       "4               0   879409    2367918  5351429   7804008         0           0  "
      ]
     },
     "execution_count": 47,
     "metadata": {},
     "output_type": "execute_result"
    }
   ],
   "source": [
    "X.head(5)"
   ]
  },
  {
   "cell_type": "code",
   "execution_count": 48,
   "metadata": {},
   "outputs": [
    {
     "data": {
      "text/plain": [
       "0    0\n",
       "1    0\n",
       "2    0\n",
       "3    0\n",
       "4    0\n",
       "5    0\n",
       "Name: Blanchiment, dtype: int64"
      ]
     },
     "execution_count": 48,
     "metadata": {},
     "output_type": "execute_result"
    }
   ],
   "source": [
    "y .head(6)"
   ]
  },
  {
   "cell_type": "code",
   "execution_count": 49,
   "metadata": {},
   "outputs": [
    {
     "name": "stdout",
     "output_type": "stream",
     "text": [
      "(70000, 12) (30000, 12) (70000,) (30000,)\n"
     ]
    }
   ],
   "source": [
    "# La division les données en ensembles d'entraînement et de test (70% train, 30% test par défaut)\n",
    "X_train, X_test, y_train, y_test = train_test_split(X, y, test_size=0.3, random_state=50)\n",
    "\n",
    "# Vérifier les dimensions des sets\n",
    "print(X_train.shape, X_test.shape, y_train.shape, y_test.shape)"
   ]
  },
  {
   "cell_type": "markdown",
   "metadata": {},
   "source": [
    "***Dans les données y_train nous avons 96,19 % de 0 soit non susceptible de Blanchir de l'argent et 3,81 % de 1 soit susceptible de Blanchir de l'argent***"
   ]
  },
  {
   "cell_type": "code",
   "execution_count": 50,
   "metadata": {},
   "outputs": [
    {
     "name": "stdout",
     "output_type": "stream",
     "text": [
      "Valeur 0 : 96.22 %\n",
      "Valeur 1 : 3.78 %\n"
     ]
    }
   ],
   "source": [
    "import numpy as np\n",
    "\n",
    "unique, counts = np.unique(y_train, return_counts=True)\n",
    "total = len(y_train)\n",
    "\n",
    "for value, count in zip(unique, counts):\n",
    "    pourcentage = (count / total) * 100\n",
    "    print(f\"Valeur {value} : {pourcentage:.2f} %\")\n"
   ]
  },
  {
   "cell_type": "markdown",
   "metadata": {},
   "source": [
    "***Dans les données y_test nous avons 96,22 % de 0 soit non susceptible de Blanchir de l'argent et 3,78 % de 1 soit susceptible de Blanchir de l'argent***"
   ]
  },
  {
   "cell_type": "code",
   "execution_count": 51,
   "metadata": {},
   "outputs": [],
   "source": [
    "X_train = X_train.to_numpy()\n",
    "X_test = X_test.to_numpy()\n",
    "y_train = y_train.to_numpy()\n",
    "y_test = y_test.to_numpy()"
   ]
  },
  {
   "cell_type": "code",
   "execution_count": 52,
   "metadata": {},
   "outputs": [
    {
     "name": "stdout",
     "output_type": "stream",
     "text": [
      "(70000, 12)\n",
      "(70000,)\n",
      "(30000, 12)\n",
      "(30000,)\n"
     ]
    }
   ],
   "source": [
    "print(X_train.shape)\n",
    "print(y_train.shape)\n",
    "print(X_test.shape)\n",
    "print(y_test.shape)"
   ]
  },
  {
   "cell_type": "code",
   "execution_count": 53,
   "metadata": {},
   "outputs": [
    {
     "name": "stdout",
     "output_type": "stream",
     "text": [
      "(70000,)\n",
      "(30000,)\n"
     ]
    }
   ],
   "source": [
    "print(y_train.shape)\n",
    "print(y_test.shape)"
   ]
  },
  {
   "cell_type": "code",
   "execution_count": 54,
   "metadata": {},
   "outputs": [],
   "source": [
    "X_train = X_train.T\n",
    "y_train = y_train.reshape((1, y_train.shape[0]))"
   ]
  },
  {
   "cell_type": "code",
   "execution_count": 55,
   "metadata": {},
   "outputs": [
    {
     "name": "stdout",
     "output_type": "stream",
     "text": [
      "(12, 70000)\n",
      "(1, 70000)\n"
     ]
    }
   ],
   "source": [
    "print(X_train.shape)\n",
    "print(y_train.shape)"
   ]
  },
  {
   "cell_type": "code",
   "execution_count": 56,
   "metadata": {},
   "outputs": [],
   "source": [
    "X_test = X_test.T\n",
    "y_test = y_test.reshape((1, y_test.shape[0]))"
   ]
  },
  {
   "cell_type": "code",
   "execution_count": 57,
   "metadata": {},
   "outputs": [
    {
     "name": "stdout",
     "output_type": "stream",
     "text": [
      "(12, 30000)\n",
      "(1, 30000)\n"
     ]
    }
   ],
   "source": [
    "print(X_test.shape)\n",
    "print(y_test.shape)"
   ]
  },
  {
   "cell_type": "markdown",
   "metadata": {},
   "source": [
    "**Application du modèle a deux couches** "
   ]
  },
  {
   "cell_type": "markdown",
   "metadata": {},
   "source": [
    "# Fonctions"
   ]
  },
  {
   "cell_type": "code",
   "execution_count": 58,
   "metadata": {},
   "outputs": [],
   "source": [
    "def initialisation(n0, n1, n2):\n",
    "\n",
    "    W1 = np.random.randn(n1, n0)\n",
    "    b1 = np.zeros((n1, 1))\n",
    "    W2 = np.random.randn(n2, n1)\n",
    "    b2 = np.zeros((n2, 1))\n",
    "\n",
    "    parametres = {\n",
    "        'W1': W1,\n",
    "        'b1': b1,\n",
    "        'W2': W2,\n",
    "        'b2': b2\n",
    "    }\n",
    "\n",
    "    return parametres"
   ]
  },
  {
   "cell_type": "code",
   "execution_count": 59,
   "metadata": {},
   "outputs": [],
   "source": [
    "def forward_propagation(X, parametres):\n",
    "\n",
    "    W1 = parametres['W1']\n",
    "    b1 = parametres['b1']\n",
    "    W2 = parametres['W2']\n",
    "    b2 = parametres['b2']\n",
    "\n",
    "    Z1 = W1.dot(X) + b1\n",
    "    A1 = 1 / (1 + np.exp(-Z1))\n",
    "    #A1  = 1 / (1 + np.clip(-Z1, -750, 750))\n",
    "\n",
    "    Z2 = W2.dot(A1) + b2\n",
    "    A2 = 1 / (1 + np.exp(-Z2))\n",
    "    #A2= 1 / (1 + np.clip(-Z2, -750, 750))\n",
    "\n",
    "    activations = {\n",
    "        'A1': A1,\n",
    "        'A2': A2\n",
    "    }\n",
    "\n",
    "    return activations"
   ]
  },
  {
   "cell_type": "code",
   "execution_count": 60,
   "metadata": {},
   "outputs": [],
   "source": [
    "def back_propagation(X, y, parametres, activations):\n",
    "\n",
    "    A1 = activations['A1']\n",
    "    A2 = activations['A2']\n",
    "    W2 = parametres['W2']\n",
    "\n",
    "    m = y.shape[1]\n",
    "\n",
    "    dZ2 = A2 - y\n",
    "    dW2 = 1 / m * dZ2.dot(A1.T)\n",
    "    db2 = 1 / m * np.sum(dZ2, axis=1, keepdims = True)\n",
    "\n",
    "    dZ1 = np.dot(W2.T, dZ2) * A1 * (1 - A1)\n",
    "    dW1 = 1 / m * dZ1.dot(X.T)\n",
    "    db1 = 1 / m * np.sum(dZ1, axis=1, keepdims = True)\n",
    "\n",
    "    gradients = {\n",
    "        'dW1' : dW1,\n",
    "        'db1' : db1,\n",
    "        'dW2' : dW2,\n",
    "        'db2' : db2\n",
    "    }\n",
    "    \n",
    "    return gradients"
   ]
  },
  {
   "cell_type": "code",
   "execution_count": 61,
   "metadata": {},
   "outputs": [],
   "source": [
    "def update(gradients, parametres, learning_rate):\n",
    "\n",
    "    W1 = parametres['W1']\n",
    "    b1 = parametres['b1']\n",
    "    W2 = parametres['W2']\n",
    "    b2 = parametres['b2']\n",
    "\n",
    "    dW1 = gradients['dW1']\n",
    "    db1 = gradients['db1']\n",
    "    dW2 = gradients['dW2']\n",
    "    db2 = gradients['db2']\n",
    "\n",
    "    W1 = W1 - learning_rate * dW1\n",
    "    b1 = b1 - learning_rate * db1\n",
    "    W2 = W2 - learning_rate * dW2\n",
    "    b2 = b2 - learning_rate * db2\n",
    "\n",
    "    parametres = {\n",
    "        'W1': W1,\n",
    "        'b1': b1,\n",
    "        'W2': W2,\n",
    "        'b2': b2\n",
    "    }\n",
    "\n",
    "    return parametres"
   ]
  },
  {
   "cell_type": "code",
   "execution_count": 62,
   "metadata": {},
   "outputs": [],
   "source": [
    "def predict(X, parametres):\n",
    "    activations = forward_propagation(X, parametres)\n",
    "    A2 = activations['A2']\n",
    "    return A2 >= 0.5"
   ]
  },
  {
   "cell_type": "code",
   "execution_count": 63,
   "metadata": {},
   "outputs": [],
   "source": [
    "\n",
    "def neural_network(X, y, n1=16, learning_rate = 0.1, n_iter = 1000):\n",
    "\n",
    "    # initialisation parametres\n",
    "    n0 = X.shape[0]\n",
    "    n2 = y.shape[0]\n",
    "    np.random.seed(0)\n",
    "    parametres = initialisation(n0, n1, n2)\n",
    "\n",
    "    train_loss = []\n",
    "    train_acc = []\n",
    "    history = []\n",
    "\n",
    "    # gradient descent\n",
    "    for i in tqdm(range(n_iter)):\n",
    "        activations = forward_propagation(X, parametres)\n",
    "        A2 = activations['A2']\n",
    "\n",
    "        # Plot courbe d'apprentissage\n",
    "        train_loss.append(log_loss(y.flatten(), A2.flatten()))\n",
    "        y_pred = predict(X, parametres)\n",
    "        train_acc.append(accuracy_score(y.flatten(), y_pred.flatten()))\n",
    "        \n",
    "        history.append([parametres.copy(), train_loss, train_acc, i])\n",
    "        \n",
    "        # mise a jour\n",
    "        gradients = back_propagation(X, y, parametres, activations)\n",
    "        parametres = update(gradients, parametres, learning_rate)\n",
    "\n",
    "\n",
    "    plt.figure(figsize=(12, 4))\n",
    "    plt.subplot(1, 2, 1)\n",
    "    plt.plot(train_loss, label='Perte d''entraînement')\n",
    "    plt.legend()\n",
    "    plt.subplot(1, 2, 2)\n",
    "    plt.plot(train_acc, label='Précision d''entraînement')\n",
    "    plt.legend()\n",
    "    plt.show()\n",
    "\n",
    "    return parametres"
   ]
  },
  {
   "cell_type": "code",
   "execution_count": 45,
   "metadata": {
    "scrolled": true
   },
   "outputs": [
    {
     "name": "stderr",
     "output_type": "stream",
     "text": [
      "  0%|          | 0/1000 [00:00<?, ?it/s]C:\\Users\\issad\\AppData\\Local\\Temp\\ipykernel_4860\\1750279114.py:9: RuntimeWarning: overflow encountered in exp\n",
      "  A1 = 1 / (1 + np.exp(-Z1))\n",
      "C:\\Users\\issad\\AppData\\Local\\Temp\\ipykernel_4860\\1750279114.py:9: RuntimeWarning: overflow encountered in exp\n",
      "  A1 = 1 / (1 + np.exp(-Z1))\n",
      "  0%|          | 1/1000 [00:00<05:57,  2.79it/s]C:\\Users\\issad\\AppData\\Local\\Temp\\ipykernel_4860\\1750279114.py:9: RuntimeWarning: overflow encountered in exp\n",
      "  A1 = 1 / (1 + np.exp(-Z1))\n",
      "C:\\Users\\issad\\AppData\\Local\\Temp\\ipykernel_4860\\1750279114.py:9: RuntimeWarning: overflow encountered in exp\n",
      "  A1 = 1 / (1 + np.exp(-Z1))\n",
      "  0%|          | 2/1000 [00:00<05:46,  2.88it/s]C:\\Users\\issad\\AppData\\Local\\Temp\\ipykernel_4860\\1750279114.py:9: RuntimeWarning: overflow encountered in exp\n",
      "  A1 = 1 / (1 + np.exp(-Z1))\n",
      "C:\\Users\\issad\\AppData\\Local\\Temp\\ipykernel_4860\\1750279114.py:9: RuntimeWarning: overflow encountered in exp\n",
      "  A1 = 1 / (1 + np.exp(-Z1))\n",
      "  0%|          | 3/1000 [00:01<05:49,  2.86it/s]C:\\Users\\issad\\AppData\\Local\\Temp\\ipykernel_4860\\1750279114.py:9: RuntimeWarning: overflow encountered in exp\n",
      "  A1 = 1 / (1 + np.exp(-Z1))\n",
      "C:\\Users\\issad\\AppData\\Local\\Temp\\ipykernel_4860\\1750279114.py:9: RuntimeWarning: overflow encountered in exp\n",
      "  A1 = 1 / (1 + np.exp(-Z1))\n",
      "  0%|          | 4/1000 [00:01<05:51,  2.83it/s]C:\\Users\\issad\\AppData\\Local\\Temp\\ipykernel_4860\\1750279114.py:9: RuntimeWarning: overflow encountered in exp\n",
      "  A1 = 1 / (1 + np.exp(-Z1))\n",
      "C:\\Users\\issad\\AppData\\Local\\Temp\\ipykernel_4860\\1750279114.py:9: RuntimeWarning: overflow encountered in exp\n",
      "  A1 = 1 / (1 + np.exp(-Z1))\n",
      "  0%|          | 5/1000 [00:01<05:53,  2.81it/s]C:\\Users\\issad\\AppData\\Local\\Temp\\ipykernel_4860\\1750279114.py:9: RuntimeWarning: overflow encountered in exp\n",
      "  A1 = 1 / (1 + np.exp(-Z1))\n",
      "C:\\Users\\issad\\AppData\\Local\\Temp\\ipykernel_4860\\1750279114.py:9: RuntimeWarning: overflow encountered in exp\n",
      "  A1 = 1 / (1 + np.exp(-Z1))\n",
      "  1%|          | 6/1000 [00:02<05:55,  2.80it/s]C:\\Users\\issad\\AppData\\Local\\Temp\\ipykernel_4860\\1750279114.py:9: RuntimeWarning: overflow encountered in exp\n",
      "  A1 = 1 / (1 + np.exp(-Z1))\n",
      "C:\\Users\\issad\\AppData\\Local\\Temp\\ipykernel_4860\\1750279114.py:9: RuntimeWarning: overflow encountered in exp\n",
      "  A1 = 1 / (1 + np.exp(-Z1))\n",
      "  1%|          | 7/1000 [00:02<05:48,  2.85it/s]C:\\Users\\issad\\AppData\\Local\\Temp\\ipykernel_4860\\1750279114.py:9: RuntimeWarning: overflow encountered in exp\n",
      "  A1 = 1 / (1 + np.exp(-Z1))\n",
      "C:\\Users\\issad\\AppData\\Local\\Temp\\ipykernel_4860\\1750279114.py:9: RuntimeWarning: overflow encountered in exp\n",
      "  A1 = 1 / (1 + np.exp(-Z1))\n",
      "  1%|          | 8/1000 [00:02<05:48,  2.84it/s]C:\\Users\\issad\\AppData\\Local\\Temp\\ipykernel_4860\\1750279114.py:9: RuntimeWarning: overflow encountered in exp\n",
      "  A1 = 1 / (1 + np.exp(-Z1))\n",
      "C:\\Users\\issad\\AppData\\Local\\Temp\\ipykernel_4860\\1750279114.py:9: RuntimeWarning: overflow encountered in exp\n",
      "  A1 = 1 / (1 + np.exp(-Z1))\n",
      "  1%|          | 9/1000 [00:03<05:49,  2.83it/s]C:\\Users\\issad\\AppData\\Local\\Temp\\ipykernel_4860\\1750279114.py:9: RuntimeWarning: overflow encountered in exp\n",
      "  A1 = 1 / (1 + np.exp(-Z1))\n",
      "C:\\Users\\issad\\AppData\\Local\\Temp\\ipykernel_4860\\1750279114.py:9: RuntimeWarning: overflow encountered in exp\n",
      "  A1 = 1 / (1 + np.exp(-Z1))\n",
      "  1%|          | 10/1000 [00:03<05:50,  2.82it/s]C:\\Users\\issad\\AppData\\Local\\Temp\\ipykernel_4860\\1750279114.py:9: RuntimeWarning: overflow encountered in exp\n",
      "  A1 = 1 / (1 + np.exp(-Z1))\n",
      "C:\\Users\\issad\\AppData\\Local\\Temp\\ipykernel_4860\\1750279114.py:9: RuntimeWarning: overflow encountered in exp\n",
      "  A1 = 1 / (1 + np.exp(-Z1))\n",
      "  1%|          | 11/1000 [00:03<05:48,  2.84it/s]C:\\Users\\issad\\AppData\\Local\\Temp\\ipykernel_4860\\1750279114.py:9: RuntimeWarning: overflow encountered in exp\n",
      "  A1 = 1 / (1 + np.exp(-Z1))\n",
      "C:\\Users\\issad\\AppData\\Local\\Temp\\ipykernel_4860\\1750279114.py:9: RuntimeWarning: overflow encountered in exp\n",
      "  A1 = 1 / (1 + np.exp(-Z1))\n",
      "  1%|          | 12/1000 [00:04<05:47,  2.84it/s]C:\\Users\\issad\\AppData\\Local\\Temp\\ipykernel_4860\\1750279114.py:9: RuntimeWarning: overflow encountered in exp\n",
      "  A1 = 1 / (1 + np.exp(-Z1))\n",
      "  1%|          | 12/1000 [00:04<05:58,  2.76it/s]\n"
     ]
    },
    {
     "ename": "KeyboardInterrupt",
     "evalue": "",
     "output_type": "error",
     "traceback": [
      "\u001b[1;31m---------------------------------------------------------------------------\u001b[0m",
      "\u001b[1;31mKeyboardInterrupt\u001b[0m                         Traceback (most recent call last)",
      "Cell \u001b[1;32mIn[45], line 1\u001b[0m\n\u001b[1;32m----> 1\u001b[0m neural_network(X_train, y_train)\n",
      "Cell \u001b[1;32mIn[44], line 19\u001b[0m, in \u001b[0;36mneural_network\u001b[1;34m(X, y, n1, learning_rate, n_iter)\u001b[0m\n\u001b[0;32m     16\u001b[0m A2 \u001b[38;5;241m=\u001b[39m activations[\u001b[38;5;124m'\u001b[39m\u001b[38;5;124mA2\u001b[39m\u001b[38;5;124m'\u001b[39m]\n\u001b[0;32m     18\u001b[0m \u001b[38;5;66;03m# Plot courbe d'apprentissage\u001b[39;00m\n\u001b[1;32m---> 19\u001b[0m train_loss\u001b[38;5;241m.\u001b[39mappend(log_loss(y\u001b[38;5;241m.\u001b[39mflatten(), A2\u001b[38;5;241m.\u001b[39mflatten()))\n\u001b[0;32m     20\u001b[0m y_pred \u001b[38;5;241m=\u001b[39m predict(X, parametres)\n\u001b[0;32m     21\u001b[0m train_acc\u001b[38;5;241m.\u001b[39mappend(accuracy_score(y\u001b[38;5;241m.\u001b[39mflatten(), y_pred\u001b[38;5;241m.\u001b[39mflatten()))\n",
      "File \u001b[1;32m~\\Anaconda3.13\\Lib\\site-packages\\sklearn\\utils\\_param_validation.py:213\u001b[0m, in \u001b[0;36mvalidate_params.<locals>.decorator.<locals>.wrapper\u001b[1;34m(*args, **kwargs)\u001b[0m\n\u001b[0;32m    207\u001b[0m \u001b[38;5;28;01mtry\u001b[39;00m:\n\u001b[0;32m    208\u001b[0m     \u001b[38;5;28;01mwith\u001b[39;00m config_context(\n\u001b[0;32m    209\u001b[0m         skip_parameter_validation\u001b[38;5;241m=\u001b[39m(\n\u001b[0;32m    210\u001b[0m             prefer_skip_nested_validation \u001b[38;5;129;01mor\u001b[39;00m global_skip_validation\n\u001b[0;32m    211\u001b[0m         )\n\u001b[0;32m    212\u001b[0m     ):\n\u001b[1;32m--> 213\u001b[0m         \u001b[38;5;28;01mreturn\u001b[39;00m func(\u001b[38;5;241m*\u001b[39margs, \u001b[38;5;241m*\u001b[39m\u001b[38;5;241m*\u001b[39mkwargs)\n\u001b[0;32m    214\u001b[0m \u001b[38;5;28;01mexcept\u001b[39;00m InvalidParameterError \u001b[38;5;28;01mas\u001b[39;00m e:\n\u001b[0;32m    215\u001b[0m     \u001b[38;5;66;03m# When the function is just a wrapper around an estimator, we allow\u001b[39;00m\n\u001b[0;32m    216\u001b[0m     \u001b[38;5;66;03m# the function to delegate validation to the estimator, but we replace\u001b[39;00m\n\u001b[0;32m    217\u001b[0m     \u001b[38;5;66;03m# the name of the estimator by the name of the function in the error\u001b[39;00m\n\u001b[0;32m    218\u001b[0m     \u001b[38;5;66;03m# message to avoid confusion.\u001b[39;00m\n\u001b[0;32m    219\u001b[0m     msg \u001b[38;5;241m=\u001b[39m re\u001b[38;5;241m.\u001b[39msub(\n\u001b[0;32m    220\u001b[0m         \u001b[38;5;124mr\u001b[39m\u001b[38;5;124m\"\u001b[39m\u001b[38;5;124mparameter of \u001b[39m\u001b[38;5;124m\\\u001b[39m\u001b[38;5;124mw+ must be\u001b[39m\u001b[38;5;124m\"\u001b[39m,\n\u001b[0;32m    221\u001b[0m         \u001b[38;5;124mf\u001b[39m\u001b[38;5;124m\"\u001b[39m\u001b[38;5;124mparameter of \u001b[39m\u001b[38;5;132;01m{\u001b[39;00mfunc\u001b[38;5;241m.\u001b[39m\u001b[38;5;18m__qualname__\u001b[39m\u001b[38;5;132;01m}\u001b[39;00m\u001b[38;5;124m must be\u001b[39m\u001b[38;5;124m\"\u001b[39m,\n\u001b[0;32m    222\u001b[0m         \u001b[38;5;28mstr\u001b[39m(e),\n\u001b[0;32m    223\u001b[0m     )\n",
      "File \u001b[1;32m~\\Anaconda3.13\\Lib\\site-packages\\sklearn\\metrics\\_classification.py:2937\u001b[0m, in \u001b[0;36mlog_loss\u001b[1;34m(y_true, y_pred, normalize, sample_weight, labels)\u001b[0m\n\u001b[0;32m   2930\u001b[0m     \u001b[38;5;28;01melse\u001b[39;00m:\n\u001b[0;32m   2931\u001b[0m         \u001b[38;5;28;01mraise\u001b[39;00m \u001b[38;5;167;01mValueError\u001b[39;00m(\n\u001b[0;32m   2932\u001b[0m             \u001b[38;5;124m\"\u001b[39m\u001b[38;5;124mThe labels array needs to contain at least two \u001b[39m\u001b[38;5;124m\"\u001b[39m\n\u001b[0;32m   2933\u001b[0m             \u001b[38;5;124m\"\u001b[39m\u001b[38;5;124mlabels for log_loss, \u001b[39m\u001b[38;5;124m\"\u001b[39m\n\u001b[0;32m   2934\u001b[0m             \u001b[38;5;124m\"\u001b[39m\u001b[38;5;124mgot \u001b[39m\u001b[38;5;132;01m{0}\u001b[39;00m\u001b[38;5;124m.\u001b[39m\u001b[38;5;124m\"\u001b[39m\u001b[38;5;241m.\u001b[39mformat(lb\u001b[38;5;241m.\u001b[39mclasses_)\n\u001b[0;32m   2935\u001b[0m         )\n\u001b[1;32m-> 2937\u001b[0m transformed_labels \u001b[38;5;241m=\u001b[39m lb\u001b[38;5;241m.\u001b[39mtransform(y_true)\n\u001b[0;32m   2939\u001b[0m \u001b[38;5;28;01mif\u001b[39;00m transformed_labels\u001b[38;5;241m.\u001b[39mshape[\u001b[38;5;241m1\u001b[39m] \u001b[38;5;241m==\u001b[39m \u001b[38;5;241m1\u001b[39m:\n\u001b[0;32m   2940\u001b[0m     transformed_labels \u001b[38;5;241m=\u001b[39m np\u001b[38;5;241m.\u001b[39mappend(\n\u001b[0;32m   2941\u001b[0m         \u001b[38;5;241m1\u001b[39m \u001b[38;5;241m-\u001b[39m transformed_labels, transformed_labels, axis\u001b[38;5;241m=\u001b[39m\u001b[38;5;241m1\u001b[39m\n\u001b[0;32m   2942\u001b[0m     )\n",
      "File \u001b[1;32m~\\Anaconda3.13\\Lib\\site-packages\\sklearn\\preprocessing\\_label.py:357\u001b[0m, in \u001b[0;36mLabelBinarizer.transform\u001b[1;34m(self, y)\u001b[0m\n\u001b[0;32m    354\u001b[0m \u001b[38;5;28;01mif\u001b[39;00m y_is_multilabel \u001b[38;5;129;01mand\u001b[39;00m \u001b[38;5;129;01mnot\u001b[39;00m \u001b[38;5;28mself\u001b[39m\u001b[38;5;241m.\u001b[39my_type_\u001b[38;5;241m.\u001b[39mstartswith(\u001b[38;5;124m\"\u001b[39m\u001b[38;5;124mmultilabel\u001b[39m\u001b[38;5;124m\"\u001b[39m):\n\u001b[0;32m    355\u001b[0m     \u001b[38;5;28;01mraise\u001b[39;00m \u001b[38;5;167;01mValueError\u001b[39;00m(\u001b[38;5;124m\"\u001b[39m\u001b[38;5;124mThe object was not fitted with multilabel input.\u001b[39m\u001b[38;5;124m\"\u001b[39m)\n\u001b[1;32m--> 357\u001b[0m \u001b[38;5;28;01mreturn\u001b[39;00m label_binarize(\n\u001b[0;32m    358\u001b[0m     y,\n\u001b[0;32m    359\u001b[0m     classes\u001b[38;5;241m=\u001b[39m\u001b[38;5;28mself\u001b[39m\u001b[38;5;241m.\u001b[39mclasses_,\n\u001b[0;32m    360\u001b[0m     pos_label\u001b[38;5;241m=\u001b[39m\u001b[38;5;28mself\u001b[39m\u001b[38;5;241m.\u001b[39mpos_label,\n\u001b[0;32m    361\u001b[0m     neg_label\u001b[38;5;241m=\u001b[39m\u001b[38;5;28mself\u001b[39m\u001b[38;5;241m.\u001b[39mneg_label,\n\u001b[0;32m    362\u001b[0m     sparse_output\u001b[38;5;241m=\u001b[39m\u001b[38;5;28mself\u001b[39m\u001b[38;5;241m.\u001b[39msparse_output,\n\u001b[0;32m    363\u001b[0m )\n",
      "File \u001b[1;32m~\\Anaconda3.13\\Lib\\site-packages\\sklearn\\utils\\_param_validation.py:186\u001b[0m, in \u001b[0;36mvalidate_params.<locals>.decorator.<locals>.wrapper\u001b[1;34m(*args, **kwargs)\u001b[0m\n\u001b[0;32m    184\u001b[0m global_skip_validation \u001b[38;5;241m=\u001b[39m get_config()[\u001b[38;5;124m\"\u001b[39m\u001b[38;5;124mskip_parameter_validation\u001b[39m\u001b[38;5;124m\"\u001b[39m]\n\u001b[0;32m    185\u001b[0m \u001b[38;5;28;01mif\u001b[39;00m global_skip_validation:\n\u001b[1;32m--> 186\u001b[0m     \u001b[38;5;28;01mreturn\u001b[39;00m func(\u001b[38;5;241m*\u001b[39margs, \u001b[38;5;241m*\u001b[39m\u001b[38;5;241m*\u001b[39mkwargs)\n\u001b[0;32m    188\u001b[0m func_sig \u001b[38;5;241m=\u001b[39m signature(func)\n\u001b[0;32m    190\u001b[0m \u001b[38;5;66;03m# Map *args/**kwargs to the function signature\u001b[39;00m\n",
      "File \u001b[1;32m~\\Anaconda3.13\\Lib\\site-packages\\sklearn\\preprocessing\\_label.py:519\u001b[0m, in \u001b[0;36mlabel_binarize\u001b[1;34m(y, classes, neg_label, pos_label, sparse_output)\u001b[0m\n\u001b[0;32m    516\u001b[0m \u001b[38;5;28;01mif\u001b[39;00m pos_switch:\n\u001b[0;32m    517\u001b[0m     pos_label \u001b[38;5;241m=\u001b[39m \u001b[38;5;241m-\u001b[39mneg_label\n\u001b[1;32m--> 519\u001b[0m y_type \u001b[38;5;241m=\u001b[39m type_of_target(y)\n\u001b[0;32m    520\u001b[0m \u001b[38;5;28;01mif\u001b[39;00m \u001b[38;5;124m\"\u001b[39m\u001b[38;5;124mmultioutput\u001b[39m\u001b[38;5;124m\"\u001b[39m \u001b[38;5;129;01min\u001b[39;00m y_type:\n\u001b[0;32m    521\u001b[0m     \u001b[38;5;28;01mraise\u001b[39;00m \u001b[38;5;167;01mValueError\u001b[39;00m(\n\u001b[0;32m    522\u001b[0m         \u001b[38;5;124m\"\u001b[39m\u001b[38;5;124mMultioutput target data is not supported with label binarization\u001b[39m\u001b[38;5;124m\"\u001b[39m\n\u001b[0;32m    523\u001b[0m     )\n",
      "File \u001b[1;32m~\\Anaconda3.13\\Lib\\site-packages\\sklearn\\utils\\multiclass.py:404\u001b[0m, in \u001b[0;36mtype_of_target\u001b[1;34m(y, input_name)\u001b[0m\n\u001b[0;32m    402\u001b[0m \u001b[38;5;28;01mif\u001b[39;00m issparse(first_row_or_val):\n\u001b[0;32m    403\u001b[0m     first_row_or_val \u001b[38;5;241m=\u001b[39m first_row_or_val\u001b[38;5;241m.\u001b[39mdata\n\u001b[1;32m--> 404\u001b[0m \u001b[38;5;28;01mif\u001b[39;00m xp\u001b[38;5;241m.\u001b[39munique_values(y)\u001b[38;5;241m.\u001b[39mshape[\u001b[38;5;241m0\u001b[39m] \u001b[38;5;241m>\u001b[39m \u001b[38;5;241m2\u001b[39m \u001b[38;5;129;01mor\u001b[39;00m (y\u001b[38;5;241m.\u001b[39mndim \u001b[38;5;241m==\u001b[39m \u001b[38;5;241m2\u001b[39m \u001b[38;5;129;01mand\u001b[39;00m \u001b[38;5;28mlen\u001b[39m(first_row_or_val) \u001b[38;5;241m>\u001b[39m \u001b[38;5;241m1\u001b[39m):\n\u001b[0;32m    405\u001b[0m     \u001b[38;5;66;03m# [1, 2, 3] or [[1., 2., 3]] or [[1, 2]]\u001b[39;00m\n\u001b[0;32m    406\u001b[0m     \u001b[38;5;28;01mreturn\u001b[39;00m \u001b[38;5;124m\"\u001b[39m\u001b[38;5;124mmulticlass\u001b[39m\u001b[38;5;124m\"\u001b[39m \u001b[38;5;241m+\u001b[39m suffix\n\u001b[0;32m    407\u001b[0m \u001b[38;5;28;01melse\u001b[39;00m:\n",
      "File \u001b[1;32m~\\Anaconda3.13\\Lib\\site-packages\\sklearn\\utils\\_array_api.py:407\u001b[0m, in \u001b[0;36m_NumPyAPIWrapper.unique_values\u001b[1;34m(self, x)\u001b[0m\n\u001b[0;32m    406\u001b[0m \u001b[38;5;28;01mdef\u001b[39;00m \u001b[38;5;21munique_values\u001b[39m(\u001b[38;5;28mself\u001b[39m, x):\n\u001b[1;32m--> 407\u001b[0m     \u001b[38;5;28;01mreturn\u001b[39;00m numpy\u001b[38;5;241m.\u001b[39munique(x)\n",
      "File \u001b[1;32m~\\Anaconda3.13\\Lib\\site-packages\\numpy\\lib\\arraysetops.py:274\u001b[0m, in \u001b[0;36munique\u001b[1;34m(ar, return_index, return_inverse, return_counts, axis, equal_nan)\u001b[0m\n\u001b[0;32m    272\u001b[0m ar \u001b[38;5;241m=\u001b[39m np\u001b[38;5;241m.\u001b[39masanyarray(ar)\n\u001b[0;32m    273\u001b[0m \u001b[38;5;28;01mif\u001b[39;00m axis \u001b[38;5;129;01mis\u001b[39;00m \u001b[38;5;28;01mNone\u001b[39;00m:\n\u001b[1;32m--> 274\u001b[0m     ret \u001b[38;5;241m=\u001b[39m _unique1d(ar, return_index, return_inverse, return_counts, \n\u001b[0;32m    275\u001b[0m                     equal_nan\u001b[38;5;241m=\u001b[39mequal_nan)\n\u001b[0;32m    276\u001b[0m     \u001b[38;5;28;01mreturn\u001b[39;00m _unpack_tuple(ret)\n\u001b[0;32m    278\u001b[0m \u001b[38;5;66;03m# axis was specified and not None\u001b[39;00m\n",
      "File \u001b[1;32m~\\Anaconda3.13\\Lib\\site-packages\\numpy\\lib\\arraysetops.py:336\u001b[0m, in \u001b[0;36m_unique1d\u001b[1;34m(ar, return_index, return_inverse, return_counts, equal_nan)\u001b[0m\n\u001b[0;32m    334\u001b[0m     aux \u001b[38;5;241m=\u001b[39m ar[perm]\n\u001b[0;32m    335\u001b[0m \u001b[38;5;28;01melse\u001b[39;00m:\n\u001b[1;32m--> 336\u001b[0m     ar\u001b[38;5;241m.\u001b[39msort()\n\u001b[0;32m    337\u001b[0m     aux \u001b[38;5;241m=\u001b[39m ar\n\u001b[0;32m    338\u001b[0m mask \u001b[38;5;241m=\u001b[39m np\u001b[38;5;241m.\u001b[39mempty(aux\u001b[38;5;241m.\u001b[39mshape, dtype\u001b[38;5;241m=\u001b[39mnp\u001b[38;5;241m.\u001b[39mbool_)\n",
      "\u001b[1;31mKeyboardInterrupt\u001b[0m: "
     ]
    }
   ],
   "source": [
    "neural_network(X_train, y_train)"
   ]
  },
  {
   "cell_type": "markdown",
   "metadata": {},
   "source": [
    "\n",
    "\n",
    "\n",
    "\n",
    "\n",
    "\n",
    "**Deuxieme parties:Application avec plusieurs couches**"
   ]
  },
  {
   "cell_type": "markdown",
   "metadata": {},
   "source": [
    "**1. Initialisation**"
   ]
  },
  {
   "cell_type": "code",
   "execution_count": 64,
   "metadata": {},
   "outputs": [],
   "source": [
    "def initialisation(dimensions):\n",
    "    \n",
    "    parametres = {}\n",
    "    C = len(dimensions)\n",
    "\n",
    "    np.random.seed(1)\n",
    "\n",
    "    for c in range(1, C):\n",
    "        parametres['W' + str(c)] = np.random.randn(dimensions[c], dimensions[c - 1])\n",
    "        parametres['b' + str(c)] = np.random.randn(dimensions[c], 1)\n",
    "\n",
    "    return parametres"
   ]
  },
  {
   "cell_type": "code",
   "execution_count": 65,
   "metadata": {},
   "outputs": [
    {
     "name": "stdout",
     "output_type": "stream",
     "text": [
      "W1 (12, 12)\n",
      "b1 (12, 1)\n",
      "W2 (12, 12)\n",
      "b2 (12, 1)\n",
      "W3 (1, 12)\n",
      "b3 (1, 1)\n"
     ]
    }
   ],
   "source": [
    "parametres =  initialisation ([12,12,12,1])\n",
    "for key, val in parametres.items():\n",
    "    print(key,val.shape)"
   ]
  },
  {
   "cell_type": "markdown",
   "metadata": {},
   "source": [
    "**2. Forward Propagation**"
   ]
  },
  {
   "cell_type": "code",
   "execution_count": 66,
   "metadata": {},
   "outputs": [],
   "source": [
    "def forward_propagation(X_test, parametres):\n",
    "  \n",
    "  activations = {'A0': X_test}\n",
    "\n",
    "  C = len(parametres) // 2\n",
    "\n",
    "  for c in range(1, C + 1):\n",
    "\n",
    "    Z = parametres['W' + str(c)].dot(activations['A' + str(c - 1)]) + parametres['b' + str(c)]\n",
    "    #activations['A' + str(c)] = 1 / (1 + np.exp(-Z))\n",
    "    activations['A' + str(c)] = 1 / (1 + np.clip(-Z, -700, 700))\n",
    "    \n",
    "  return activations"
   ]
  },
  {
   "cell_type": "code",
   "execution_count": 67,
   "metadata": {},
   "outputs": [
    {
     "name": "stdout",
     "output_type": "stream",
     "text": [
      "A0 (12, 30000)\n",
      "A1 (12, 30000)\n",
      "A2 (12, 30000)\n",
      "A3 (1, 30000)\n"
     ]
    }
   ],
   "source": [
    "activations = forward_propagation(X_test, parametres)\n",
    "for key,val in activations.items():\n",
    "    print(key,val.shape) "
   ]
  },
  {
   "cell_type": "markdown",
   "metadata": {},
   "source": [
    "**3. Back-Propagation**"
   ]
  },
  {
   "cell_type": "code",
   "execution_count": 68,
   "metadata": {},
   "outputs": [],
   "source": [
    "def back_propagation(y_test, parametres, activations):\n",
    "\n",
    "  m = y_test.shape[1]\n",
    "  C = len(parametres) // 2\n",
    "\n",
    "  dZ = activations['A' + str(C)] - y_test\n",
    "  gradients = {}\n",
    "\n",
    "  for c in reversed(range(1, C + 1)):\n",
    "    gradients['dW' + str(c)] = 1/m * np.dot(dZ, activations['A' + str(c - 1)].T)\n",
    "    gradients['db' + str(c)] = 1/m * np.sum(dZ, axis=1, keepdims=True)\n",
    "    if c > 1:\n",
    "      dZ = np.dot(parametres['W' + str(c)].T, dZ) * activations['A' + str(c - 1)] * (1 - activations['A' + str(c - 1)])\n",
    "\n",
    "  return gradients"
   ]
  },
  {
   "cell_type": "code",
   "execution_count": 69,
   "metadata": {},
   "outputs": [
    {
     "name": "stdout",
     "output_type": "stream",
     "text": [
      "dW3 (1, 12)\n",
      "db3 (1, 1)\n",
      "dW2 (12, 12)\n",
      "db2 (12, 1)\n",
      "dW1 (12, 12)\n",
      "db1 (12, 1)\n"
     ]
    }
   ],
   "source": [
    "grad = back_propagation(y_test, parametres, activations)\n",
    "for key, val in grad.items():\n",
    "    print(key,val.shape)"
   ]
  },
  {
   "cell_type": "markdown",
   "metadata": {},
   "source": [
    "**4. Mise à jour des paramètres**"
   ]
  },
  {
   "cell_type": "code",
   "execution_count": 70,
   "metadata": {},
   "outputs": [],
   "source": [
    "def update(gradients, parametres, learning_rate):\n",
    "\n",
    "    C = len(parametres) // 2\n",
    "\n",
    "    for c in range(1, C + 1):\n",
    "        parametres['W' + str(c)] = parametres['W' + str(c)] - learning_rate * gradients['dW' + str(c)]\n",
    "        parametres['b' + str(c)] = parametres['b' + str(c)] - learning_rate * gradients['db' + str(c)]\n",
    "\n",
    "    return parametres"
   ]
  },
  {
   "cell_type": "code",
   "execution_count": 71,
   "metadata": {},
   "outputs": [],
   "source": [
    "def predict(X_train, parametres):\n",
    "    activations = forward_propagation(X_train, parametres)\n",
    "    C = len(parametres) // 2\n",
    "    Af = activations['A' + str(C)]\n",
    "    print(Af)\n",
    "    return Af >= 0.5"
   ]
  },
  {
   "cell_type": "code",
   "execution_count": 110,
   "metadata": {},
   "outputs": [],
   "source": [
    "def Apprentissage_profond_DAO(X_train, y_train, hidden_layers = (32, 32, 16), learning_rate = 0.02, n_iter = 700):\n",
    "    \n",
    "    # initialisation parametres\n",
    "    dimensions = list(hidden_layers)\n",
    "    dimensions.insert(0, X_train.shape[0])\n",
    "    dimensions.append(y_train.shape[0])\n",
    "    np.random.seed(1)\n",
    "    parametres = initialisation(dimensions)\n",
    "\n",
    "    # tableau numpy contenant les futures accuracy et log_loss\n",
    "    training_history = np.zeros((int(n_iter), 2))\n",
    "\n",
    "    C = len(parametres) // 2\n",
    "\n",
    "    # gradient descent\n",
    "    for i in tqdm(range(n_iter)):\n",
    "\n",
    "        activations = forward_propagation(X_train, parametres)\n",
    "        gradients = back_propagation(y_train, parametres, activations)\n",
    "        parametres = update(gradients, parametres, learning_rate)\n",
    "        Af = activations['A' + str(C)]\n",
    "\n",
    "        # calcul du log_loss et de l'accuracy\n",
    "        training_history[i, 0] = (log_loss(y_train.flatten(), Af.flatten()))\n",
    "        y_pred = predict(X_train, parametres)\n",
    "        training_history[i, 1] = (accuracy_score(y_train.flatten(), y_pred.flatten()))\n",
    "\n",
    "\n",
    "    # Plot courbe d'apprentissage\n",
    "    plt.figure(figsize=(12, 4))\n",
    "    plt.subplot(1, 2, 1)\n",
    "    plt.plot(training_history[:, 0], label='Perte de l''entrainement')\n",
    "    plt.legend()\n",
    "    plt.subplot(1, 2, 2)\n",
    "    plt.plot(training_history[:, 1], label='Précision de l''entrainement')\n",
    "    plt.legend()\n",
    "    plt.show()\n",
    "    \n",
    "    return training_history\n"
   ]
  },
  {
   "cell_type": "code",
   "execution_count": 111,
   "metadata": {},
   "outputs": [
    {
     "name": "stderr",
     "output_type": "stream",
     "text": [
      "  0%|          | 1/700 [00:00<03:09,  3.68it/s]"
     ]
    },
    {
     "name": "stdout",
     "output_type": "stream",
     "text": [
      "[[-1.92533305 -1.92533305 -1.95436227 ... -1.94133001 -1.92533305\n",
      "  -1.94133001]]\n"
     ]
    },
    {
     "name": "stderr",
     "output_type": "stream",
     "text": [
      "  0%|          | 2/700 [00:00<03:04,  3.78it/s]"
     ]
    },
    {
     "name": "stdout",
     "output_type": "stream",
     "text": [
      "[[-0.2213656  -0.2213656  -0.27748239 ... -0.27748239 -0.2213656\n",
      "  -0.20489557]]\n"
     ]
    },
    {
     "name": "stderr",
     "output_type": "stream",
     "text": [
      "  0%|          | 3/700 [00:00<03:02,  3.82it/s]"
     ]
    },
    {
     "name": "stdout",
     "output_type": "stream",
     "text": [
      "[[-0.77261562 -0.98702514 -0.13086527 ... -0.77261562 -0.98702514\n",
      "  -0.77261562]]\n"
     ]
    },
    {
     "name": "stderr",
     "output_type": "stream",
     "text": [
      "  1%|          | 4/700 [00:01<02:56,  3.94it/s]"
     ]
    },
    {
     "name": "stdout",
     "output_type": "stream",
     "text": [
      "[[-2.79000911 -2.78764072 -2.76954278 ... -2.76954278 -2.77197817\n",
      "  -2.76954278]]\n"
     ]
    },
    {
     "name": "stderr",
     "output_type": "stream",
     "text": [
      "  1%|          | 5/700 [00:01<02:57,  3.91it/s]"
     ]
    },
    {
     "name": "stdout",
     "output_type": "stream",
     "text": [
      "[[-16.57757136  -5.21948824  31.75185487 ...  31.75185487  -4.79916927\n",
      "   31.75185487]]\n"
     ]
    },
    {
     "name": "stderr",
     "output_type": "stream",
     "text": [
      "  1%|          | 6/700 [00:01<03:01,  3.83it/s]"
     ]
    },
    {
     "name": "stdout",
     "output_type": "stream",
     "text": [
      "[[-0.96888324 -0.96888324 -0.96439243 ... -0.96439243 -0.96439243\n",
      "  -0.96439243]]\n"
     ]
    },
    {
     "name": "stderr",
     "output_type": "stream",
     "text": [
      "  1%|          | 7/700 [00:01<03:08,  3.67it/s]"
     ]
    },
    {
     "name": "stdout",
     "output_type": "stream",
     "text": [
      "[[-0.79686226 -0.79686226 -0.79148614 ... -0.79148614 -0.79148614\n",
      "  -0.79148614]]\n"
     ]
    },
    {
     "name": "stderr",
     "output_type": "stream",
     "text": [
      "  1%|          | 8/700 [00:02<03:15,  3.54it/s]"
     ]
    },
    {
     "name": "stdout",
     "output_type": "stream",
     "text": [
      "[[-0.5858768 -0.5858768 -0.5786964 ... -0.5786964 -0.5786964 -0.5786964]]\n"
     ]
    },
    {
     "name": "stderr",
     "output_type": "stream",
     "text": [
      "  1%|▏         | 9/700 [00:02<03:15,  3.54it/s]"
     ]
    },
    {
     "name": "stdout",
     "output_type": "stream",
     "text": [
      "[[0.10824147 0.12468563 0.04040126 ... 0.14828105 0.14828105 0.14828105]]\n"
     ]
    },
    {
     "name": "stderr",
     "output_type": "stream",
     "text": [
      "  1%|▏         | 10/700 [00:02<03:17,  3.49it/s]"
     ]
    },
    {
     "name": "stdout",
     "output_type": "stream",
     "text": [
      "[[-1.46449841 -1.46449841 -0.10410556 ...  0.03385206 -1.30546883\n",
      "  -1.46449841]]\n"
     ]
    },
    {
     "name": "stderr",
     "output_type": "stream",
     "text": [
      "  2%|▏         | 11/700 [00:03<03:14,  3.55it/s]"
     ]
    },
    {
     "name": "stdout",
     "output_type": "stream",
     "text": [
      "[[-0.03023455 -0.03023455 -0.02287772 ... -0.04299985 -0.03023455\n",
      "  -0.04299985]]\n"
     ]
    },
    {
     "name": "stderr",
     "output_type": "stream",
     "text": [
      "  2%|▏         | 12/700 [00:03<03:19,  3.46it/s]"
     ]
    },
    {
     "name": "stdout",
     "output_type": "stream",
     "text": [
      "[[15.77093266 15.77093266 15.77093266 ... 15.77093266 15.77093266\n",
      "  15.77093266]]\n"
     ]
    },
    {
     "name": "stderr",
     "output_type": "stream",
     "text": [
      "  2%|▏         | 13/700 [00:03<03:16,  3.50it/s]"
     ]
    },
    {
     "name": "stdout",
     "output_type": "stream",
     "text": [
      "[[-0.4787484  -0.4787484  -0.48298723 ... -0.48298723 -0.48298723\n",
      "  -0.4787484 ]]\n"
     ]
    },
    {
     "name": "stderr",
     "output_type": "stream",
     "text": [
      "  2%|▏         | 14/700 [00:03<03:13,  3.55it/s]"
     ]
    },
    {
     "name": "stdout",
     "output_type": "stream",
     "text": [
      "[[-0.45384295 -0.45384295 -0.45750404 ... -0.45750404 -0.45750404\n",
      "  -0.45384295]]\n"
     ]
    },
    {
     "name": "stderr",
     "output_type": "stream",
     "text": [
      "\n"
     ]
    },
    {
     "ename": "KeyboardInterrupt",
     "evalue": "",
     "output_type": "error",
     "traceback": [
      "\u001b[1;31m---------------------------------------------------------------------------\u001b[0m",
      "\u001b[1;31mKeyboardInterrupt\u001b[0m                         Traceback (most recent call last)",
      "Cell \u001b[1;32mIn[111], line 1\u001b[0m\n\u001b[1;32m----> 1\u001b[0m Apprentissage_profond_DAO(X_train,y_train)\n",
      "Cell \u001b[1;32mIn[110], line 18\u001b[0m, in \u001b[0;36mApprentissage_profond_DAO\u001b[1;34m(X_train, y_train, hidden_layers, learning_rate, n_iter)\u001b[0m\n\u001b[0;32m     15\u001b[0m \u001b[38;5;66;03m# gradient descent\u001b[39;00m\n\u001b[0;32m     16\u001b[0m \u001b[38;5;28;01mfor\u001b[39;00m i \u001b[38;5;129;01min\u001b[39;00m tqdm(\u001b[38;5;28mrange\u001b[39m(n_iter)):\n\u001b[1;32m---> 18\u001b[0m     activations \u001b[38;5;241m=\u001b[39m forward_propagation(X_train, parametres)\n\u001b[0;32m     19\u001b[0m     gradients \u001b[38;5;241m=\u001b[39m back_propagation(y_train, parametres, activations)\n\u001b[0;32m     20\u001b[0m     parametres \u001b[38;5;241m=\u001b[39m update(gradients, parametres, learning_rate)\n",
      "Cell \u001b[1;32mIn[66], line 11\u001b[0m, in \u001b[0;36mforward_propagation\u001b[1;34m(X_test, parametres)\u001b[0m\n\u001b[0;32m      9\u001b[0m   Z \u001b[38;5;241m=\u001b[39m parametres[\u001b[38;5;124m'\u001b[39m\u001b[38;5;124mW\u001b[39m\u001b[38;5;124m'\u001b[39m \u001b[38;5;241m+\u001b[39m \u001b[38;5;28mstr\u001b[39m(c)]\u001b[38;5;241m.\u001b[39mdot(activations[\u001b[38;5;124m'\u001b[39m\u001b[38;5;124mA\u001b[39m\u001b[38;5;124m'\u001b[39m \u001b[38;5;241m+\u001b[39m \u001b[38;5;28mstr\u001b[39m(c \u001b[38;5;241m-\u001b[39m \u001b[38;5;241m1\u001b[39m)]) \u001b[38;5;241m+\u001b[39m parametres[\u001b[38;5;124m'\u001b[39m\u001b[38;5;124mb\u001b[39m\u001b[38;5;124m'\u001b[39m \u001b[38;5;241m+\u001b[39m \u001b[38;5;28mstr\u001b[39m(c)]\n\u001b[0;32m     10\u001b[0m   \u001b[38;5;66;03m#activations['A' + str(c)] = 1 / (1 + np.exp(-Z))\u001b[39;00m\n\u001b[1;32m---> 11\u001b[0m   activations[\u001b[38;5;124m'\u001b[39m\u001b[38;5;124mA\u001b[39m\u001b[38;5;124m'\u001b[39m \u001b[38;5;241m+\u001b[39m \u001b[38;5;28mstr\u001b[39m(c)] \u001b[38;5;241m=\u001b[39m \u001b[38;5;241m1\u001b[39m \u001b[38;5;241m/\u001b[39m (\u001b[38;5;241m1\u001b[39m \u001b[38;5;241m+\u001b[39m np\u001b[38;5;241m.\u001b[39mclip(\u001b[38;5;241m-\u001b[39mZ, \u001b[38;5;241m-\u001b[39m\u001b[38;5;241m700\u001b[39m, \u001b[38;5;241m700\u001b[39m))\n\u001b[0;32m     13\u001b[0m \u001b[38;5;28;01mreturn\u001b[39;00m activations\n",
      "File \u001b[1;32m~\\Anaconda3.13\\Lib\\site-packages\\numpy\\core\\fromnumeric.py:2169\u001b[0m, in \u001b[0;36mclip\u001b[1;34m(a, a_min, a_max, out, **kwargs)\u001b[0m\n\u001b[0;32m   2100\u001b[0m \u001b[38;5;129m@array_function_dispatch\u001b[39m(_clip_dispatcher)\n\u001b[0;32m   2101\u001b[0m \u001b[38;5;28;01mdef\u001b[39;00m \u001b[38;5;21mclip\u001b[39m(a, a_min, a_max, out\u001b[38;5;241m=\u001b[39m\u001b[38;5;28;01mNone\u001b[39;00m, \u001b[38;5;241m*\u001b[39m\u001b[38;5;241m*\u001b[39mkwargs):\n\u001b[0;32m   2102\u001b[0m \u001b[38;5;250m    \u001b[39m\u001b[38;5;124;03m\"\"\"\u001b[39;00m\n\u001b[0;32m   2103\u001b[0m \u001b[38;5;124;03m    Clip (limit) the values in an array.\u001b[39;00m\n\u001b[0;32m   2104\u001b[0m \n\u001b[1;32m   (...)\u001b[0m\n\u001b[0;32m   2167\u001b[0m \n\u001b[0;32m   2168\u001b[0m \u001b[38;5;124;03m    \"\"\"\u001b[39;00m\n\u001b[1;32m-> 2169\u001b[0m     \u001b[38;5;28;01mreturn\u001b[39;00m _wrapfunc(a, \u001b[38;5;124m'\u001b[39m\u001b[38;5;124mclip\u001b[39m\u001b[38;5;124m'\u001b[39m, a_min, a_max, out\u001b[38;5;241m=\u001b[39mout, \u001b[38;5;241m*\u001b[39m\u001b[38;5;241m*\u001b[39mkwargs)\n",
      "File \u001b[1;32m~\\Anaconda3.13\\Lib\\site-packages\\numpy\\core\\fromnumeric.py:59\u001b[0m, in \u001b[0;36m_wrapfunc\u001b[1;34m(obj, method, *args, **kwds)\u001b[0m\n\u001b[0;32m     56\u001b[0m     \u001b[38;5;28;01mreturn\u001b[39;00m _wrapit(obj, method, \u001b[38;5;241m*\u001b[39margs, \u001b[38;5;241m*\u001b[39m\u001b[38;5;241m*\u001b[39mkwds)\n\u001b[0;32m     58\u001b[0m \u001b[38;5;28;01mtry\u001b[39;00m:\n\u001b[1;32m---> 59\u001b[0m     \u001b[38;5;28;01mreturn\u001b[39;00m bound(\u001b[38;5;241m*\u001b[39margs, \u001b[38;5;241m*\u001b[39m\u001b[38;5;241m*\u001b[39mkwds)\n\u001b[0;32m     60\u001b[0m \u001b[38;5;28;01mexcept\u001b[39;00m \u001b[38;5;167;01mTypeError\u001b[39;00m:\n\u001b[0;32m     61\u001b[0m     \u001b[38;5;66;03m# A TypeError occurs if the object does have such a method in its\u001b[39;00m\n\u001b[0;32m     62\u001b[0m     \u001b[38;5;66;03m# class, but its signature is not identical to that of NumPy's. This\u001b[39;00m\n\u001b[1;32m   (...)\u001b[0m\n\u001b[0;32m     66\u001b[0m     \u001b[38;5;66;03m# Call _wrapit from within the except clause to ensure a potential\u001b[39;00m\n\u001b[0;32m     67\u001b[0m     \u001b[38;5;66;03m# exception has a traceback chain.\u001b[39;00m\n\u001b[0;32m     68\u001b[0m     \u001b[38;5;28;01mreturn\u001b[39;00m _wrapit(obj, method, \u001b[38;5;241m*\u001b[39margs, \u001b[38;5;241m*\u001b[39m\u001b[38;5;241m*\u001b[39mkwds)\n",
      "File \u001b[1;32m~\\Anaconda3.13\\Lib\\site-packages\\numpy\\core\\_methods.py:99\u001b[0m, in \u001b[0;36m_clip\u001b[1;34m(a, min, max, out, **kwargs)\u001b[0m\n\u001b[0;32m     97\u001b[0m     \u001b[38;5;28;01mreturn\u001b[39;00m um\u001b[38;5;241m.\u001b[39mmaximum(a, \u001b[38;5;28mmin\u001b[39m, out\u001b[38;5;241m=\u001b[39mout, \u001b[38;5;241m*\u001b[39m\u001b[38;5;241m*\u001b[39mkwargs)\n\u001b[0;32m     98\u001b[0m \u001b[38;5;28;01melse\u001b[39;00m:\n\u001b[1;32m---> 99\u001b[0m     \u001b[38;5;28;01mreturn\u001b[39;00m um\u001b[38;5;241m.\u001b[39mclip(a, \u001b[38;5;28mmin\u001b[39m, \u001b[38;5;28mmax\u001b[39m, out\u001b[38;5;241m=\u001b[39mout, \u001b[38;5;241m*\u001b[39m\u001b[38;5;241m*\u001b[39mkwargs)\n",
      "\u001b[1;31mKeyboardInterrupt\u001b[0m: "
     ]
    }
   ],
   "source": [
    "Apprentissage_profond_DAO(X_train,y_train)"
   ]
  },
  {
   "cell_type": "code",
   "execution_count": 112,
   "metadata": {},
   "outputs": [],
   "source": [
    "def Apprentissage_profond_DAO(X_train, y_train, hidden_layers=(8, 8, 8), learning_rate=0.02, n_iter=700):\n",
    "    import numpy as np\n",
    "    import matplotlib.pyplot as plt\n",
    "    from tqdm import tqdm\n",
    "    from sklearn.metrics import accuracy_score, log_loss\n",
    "\n",
    "    # Initialisation des paramètres\n",
    "    dimensions = list(hidden_layers)\n",
    "    dimensions.insert(0, X_train.shape[0])\n",
    "    dimensions.append(y_train.shape[0])\n",
    "    np.random.seed(1)\n",
    "    parametres = initialisation(dimensions)\n",
    "\n",
    "    # Tableau pour stocker loss et accuracy\n",
    "    training_history = np.zeros((int(n_iter), 2))\n",
    "\n",
    "    C = len(parametres) // 2\n",
    "\n",
    "    # Descente de gradient\n",
    "    for i in tqdm(range(n_iter)):\n",
    "        activations = forward_propagation(X_train, parametres)\n",
    "        gradients = back_propagation(y_train, parametres, activations)\n",
    "        parametres = update(gradients, parametres, learning_rate)\n",
    "        Af = activations['A' + str(C)]\n",
    "\n",
    "        # Log Loss\n",
    "        training_history[i, 0] = log_loss(y_train.flatten(), Af.flatten())\n",
    "\n",
    "        # Accuracy\n",
    "        y_pred = predict(X_train, parametres)\n",
    "        training_history[i, 1] = accuracy_score(y_train.flatten(), y_pred.flatten())\n",
    "\n",
    "    # Affichage courbes\n",
    "    plt.figure(figsize=(12, 4))\n",
    "    plt.subplot(1, 2, 1)\n",
    "    plt.plot(training_history[:, 0], label='Perte d\\'entraînement')\n",
    "    plt.xlabel('Itérations')\n",
    "    plt.ylabel('Log Loss')\n",
    "    plt.legend()\n",
    "\n",
    "    plt.subplot(1, 2, 2)\n",
    "    plt.plot(training_history[:, 1], label='Précision d\\'entraînement')\n",
    "    plt.xlabel('Itérations')\n",
    "    plt.ylabel('Accuracy')\n",
    "    plt.legend()\n",
    "\n",
    "    plt.tight_layout()\n",
    "    plt.show()\n",
    "\n",
    "    # Affichage de la dernière précision\n",
    "    final_accuracy = training_history[-1, 1]\n",
    "    print(f\"✅ Précision finale du modèle : {final_accuracy:.4f}\")\n",
    "\n",
    "    return training_history\n"
   ]
  },
  {
   "cell_type": "code",
   "execution_count": 115,
   "metadata": {},
   "outputs": [],
   "source": [
    "def Apprentissage_profond_DAO(X_train, y_train, hidden_layers=(32, 32, 16), learning_rate=0.02, n_iter=700):\n",
    "    import numpy as np\n",
    "    import matplotlib.pyplot as plt\n",
    "    from tqdm import tqdm\n",
    "    from sklearn.metrics import log_loss, accuracy_score\n",
    "\n",
    "    # Initialisation des dimensions du réseau\n",
    "    dimensions = list(hidden_layers)\n",
    "    dimensions.insert(0, X_train.shape[0])\n",
    "    dimensions.append(y_train.shape[0])\n",
    "\n",
    "    np.random.seed(1)\n",
    "    parametres = initialisation(dimensions)\n",
    "\n",
    "    # Tableau pour stocker la loss et la précision\n",
    "    training_history = np.zeros((int(n_iter), 2))\n",
    "    C = len(parametres) // 2  # nombre de couches\n",
    "\n",
    "    # Descente de gradient\n",
    "    for i in tqdm(range(n_iter)):\n",
    "        activations = forward_propagation(X_train, parametres)\n",
    "        gradients = back_propagation(y_train, parametres, activations)\n",
    "        parametres = update(gradients, parametres, learning_rate)\n",
    "        Af = activations['A' + str(C)]\n",
    "\n",
    "        # Calcul du log_loss et de l'accuracy\n",
    "        training_history[i, 0] = log_loss(y_train.flatten(), Af.flatten())\n",
    "        y_pred = predict(X_train, parametres)\n",
    "        training_history[i, 1] = accuracy_score(y_train.flatten(), y_pred.flatten())\n",
    "\n",
    "    # Affichage des courbes d'apprentissage\n",
    "    plt.figure(figsize=(12, 4))\n",
    "    plt.subplot(1, 2, 1)\n",
    "    plt.plot(training_history[:, 0], label=\"Perte d'entraînement\")\n",
    "    plt.legend()\n",
    "    plt.subplot(1, 2, 2)\n",
    "    plt.plot(training_history[:, 1], label=\"Précision d'entraînement\")\n",
    "    plt.legend()\n",
    "    plt.show()\n",
    "\n",
    "    # Retourne les paramètres appris (modèle) + l'historique\n",
    "    return parametres, training_history\n"
   ]
  },
  {
   "cell_type": "code",
   "execution_count": 120,
   "metadata": {},
   "outputs": [
    {
     "name": "stderr",
     "output_type": "stream",
     "text": [
      "100%|██████████| 700/700 [02:38<00:00,  4.42it/s]\n"
     ]
    },
    {
     "data": {
      "image/png": "[encoded data removed]",
      "text/plain": [
       "<Figure size 1200x400 with 2 Axes>"
      ]
     },
     "metadata": {},
     "output_type": "display_data"
    },
    {
     "name": "stdout",
     "output_type": "stream",
     "text": [
      "Précision finale: 0.9621714285714286\n"
     ]
    }
   ],
   "source": [
    "import numpy as np\n",
    "from tqdm import tqdm\n",
    "from sklearn.metrics import accuracy_score, log_loss\n",
    "import matplotlib.pyplot as plt\n",
    "\n",
    "class neuroneDAOI:\n",
    "    def __init__(self, input_size, hidden_layers=(32, 32, 16), output_size=1):\n",
    "        \"\"\"Initialisation du modèle\"\"\"\n",
    "        self.dimensions = [input_size] + list(hidden_layers) + [output_size]\n",
    "        self.parameters = self._initialize_parameters()\n",
    "        self.training_history = None\n",
    "    \n",
    "    def _initialize_parameters(self):\n",
    "        \"\"\"Initialisation des paramètres (poids et biais)\"\"\"\n",
    "        parameters = {}\n",
    "        np.random.seed(1)\n",
    "        \n",
    "        for c in range(1, len(self.dimensions)):\n",
    "            parameters[f'W{c}'] = np.random.randn(self.dimensions[c], self.dimensions[c-1]) * 0.01\n",
    "            parameters[f'b{c}'] = np.zeros((self.dimensions[c], 1))\n",
    "            \n",
    "        return parameters\n",
    "    \n",
    "    def forward_propagation(self, X):\n",
    "        \"\"\"Propagation avant\"\"\"\n",
    "        activations = {'A0': X}\n",
    "        C = len(self.parameters) // 2\n",
    "        \n",
    "        for c in range(1, C + 1):\n",
    "            Z = np.dot(self.parameters[f'W{c}'], activations[f'A{c-1}']) + self.parameters[f'b{c}']\n",
    "            activations[f'A{c}'] = 1 / (1 + np.exp(-np.clip(Z, -700, 700)))  # Sigmoid avec protection contre overflow\n",
    "            \n",
    "        return activations\n",
    "    \n",
    "    def back_propagation(self, X, y, activations):\n",
    "        \"\"\"Rétropropagation du gradient\"\"\"\n",
    "        m = y.shape[1]\n",
    "        C = len(self.parameters) // 2\n",
    "        gradients = {}\n",
    "        \n",
    "        # Dérivée de la dernière couche\n",
    "        dZ = activations[f'A{C}'] - y\n",
    "        \n",
    "        for c in reversed(range(1, C + 1)):\n",
    "            gradients[f'dW{c}'] = (1/m) * np.dot(dZ, activations[f'A{c-1}'].T)\n",
    "            gradients[f'db{c}'] = (1/m) * np.sum(dZ, axis=1, keepdims=True)\n",
    "            \n",
    "            if c > 1:\n",
    "                dZ = np.dot(self.parameters[f'W{c}'].T, dZ) * activations[f'A{c-1}'] * (1 - activations[f'A{c-1}'])\n",
    "                \n",
    "        return gradients\n",
    "    \n",
    "    def update_parameters(self, gradients, learning_rate):\n",
    "        \"\"\"Mise à jour des paramètres\"\"\"\n",
    "        C = len(self.parameters) // 2\n",
    "        \n",
    "        for c in range(1, C + 1):\n",
    "            self.parameters[f'W{c}'] -= learning_rate * gradients[f'dW{c}']\n",
    "            self.parameters[f'b{c}'] -= learning_rate * gradients[f'db{c}']\n",
    "    \n",
    "    def predict(self, X, threshold=0.5):\n",
    "        \"\"\"Prédiction\"\"\"\n",
    "        activations = self.forward_propagation(X)\n",
    "        C = len(self.parameters) // 2\n",
    "        Af = activations[f'A{C}']\n",
    "        return (Af >= threshold).astype(int)\n",
    "    \n",
    "    def compute_metrics(self, X, y):\n",
    "        \"\"\"Calcul des métriques (log loss et accuracy)\"\"\"\n",
    "        activations = self.forward_propagation(X)\n",
    "        C = len(self.parameters) // 2\n",
    "        Af = activations[f'A{C}']\n",
    "        \n",
    "        loss = log_loss(y.flatten(), Af.flatten())\n",
    "        accuracy = accuracy_score(y.flatten(), self.predict(X).flatten())\n",
    "        \n",
    "        return loss, accuracy\n",
    "    \n",
    "    def train(self, X_train, y_train, learning_rate=0.02, n_iter=700):\n",
    "        \"\"\"Entraînement du modèle\"\"\"\n",
    "        self.training_history = np.zeros((n_iter, 2))\n",
    "        \n",
    "        for i in tqdm(range(n_iter)):\n",
    "            # Propagation avant\n",
    "            activations = self.forward_propagation(X_train)\n",
    "            \n",
    "            # Rétropropagation\n",
    "            gradients = self.back_propagation(X_train, y_train, activations)\n",
    "            \n",
    "            # Mise à jour des paramètres\n",
    "            self.update_parameters(gradients, learning_rate)\n",
    "            \n",
    "            # Calcul des métriques\n",
    "            self.training_history[i, 0], self.training_history[i, 1] = self.compute_metrics(X_train, y_train)\n",
    "        \n",
    "        # Affichage des courbes d'apprentissage\n",
    "        self.plot_training_history()\n",
    "        \n",
    "        return self.training_history\n",
    "    \n",
    "    def plot_training_history(self):\n",
    "        \"\"\"Visualisation des courbes d'apprentissage\"\"\"\n",
    "        if self.training_history is None:\n",
    "            raise ValueError(\"Le modèle n'a pas encore été entraîné\")\n",
    "            \n",
    "        plt.figure(figsize=(12, 4))\n",
    "        plt.subplot(1, 2, 1)\n",
    "        plt.plot(self.training_history[:, 0], label='Perte d\\'entraînement')\n",
    "        plt.legend()\n",
    "        plt.subplot(1, 2, 2)\n",
    "        plt.plot(self.training_history[:, 1], label='Précision d\\'entraînement')\n",
    "        plt.legend()\n",
    "        plt.show()\n",
    "\n",
    "# Exemple d'utilisation\n",
    "if __name__ == \"__main__\":\n",
    "    \n",
    "    # Création et entraînement du modèle\n",
    "    modelBONID = neuroneDAOI(input_size=12, hidden_layers=(8, 8), output_size=1)\n",
    "    history = modelBONID.train(X_train, y_train, learning_rate=0.02, n_iter=700)\n",
    "    \n",
    "    # Prédiction\n",
    "    predictions = modelBONID.predict(X_train)\n",
    "    print(\"Précision finale:\", accuracy_score(y_train.flatten(), predictions.flatten()))"
   ]
  },
  {
   "cell_type": "code",
   "execution_count": 121,
   "metadata": {},
   "outputs": [
    {
     "data": {
      "text/plain": [
       "<__main__.neuroneDAOI at 0x216302b64b0>"
      ]
     },
     "execution_count": 121,
     "metadata": {},
     "output_type": "execute_result"
    }
   ],
   "source": [
    "modelBONID"
   ]
  },
  {
   "cell_type": "code",
   "execution_count": 122,
   "metadata": {},
   "outputs": [
    {
     "name": "stdout",
     "output_type": "stream",
     "text": [
      " Précision finale: 0.9618666666666666\n"
     ]
    }
   ],
   "source": [
    "\n",
    "    #modDAO = get_trained_model(X_test, y_test)\n",
    "    predictions = modelBONID.predict(X_test)\n",
    "    print(\" Précision finale:\", accuracy_score(y_test.flatten(), predictions.flatten()))"
   ]
  },
  {
   "cell_type": "code",
   "execution_count": 82,
   "metadata": {},
   "outputs": [],
   "source": [
    "#joblib.dump(modDAO, \"modeleNEURONE.pkl\")  # Enregistre dans un fichier"
   ]
  },
  {
   "cell_type": "code",
   "execution_count": 141,
   "metadata": {},
   "outputs": [
    {
     "data": {
      "text/plain": [
       "['modelePBBC.pkl']"
      ]
     },
     "execution_count": 141,
     "metadata": {},
     "output_type": "execute_result"
    }
   ],
   "source": [
    "import joblib\n",
    "# Sauvegarder le modèle dans un fichier\n",
    "joblib.dump(modelBONID, 'modelePBBC.pkl')"
   ]
  },
  {
   "cell_type": "code",
   "execution_count": 142,
   "metadata": {},
   "outputs": [],
   "source": [
    "# Chargement du modèle\n",
    "modeleCC = joblib.load(\"modelePBBC.pkl\")"
   ]
  },
  {
   "cell_type": "code",
   "execution_count": 136,
   "metadata": {},
   "outputs": [
    {
     "data": {
      "text/plain": [
       "'\"\" [\\'Age\\', \\'Risque_du_secteur\\', \\'freq_depots\\', \\'freq_des_retraits\\', \\'Lieux_de_residence\\',\\n \\'Type_de_client\\', \\'M_depot\\', \\'M_retrait\\', \\'M_recu\\', \\'M_envoye\\',\\n \\'Z_t_recu\\', \\'Z_t_envoye\\', \\'Blanchiment\\'] '"
      ]
     },
     "execution_count": 136,
     "metadata": {},
     "output_type": "execute_result"
    }
   ],
   "source": [
    "\"\"\"\"\" ['Age', 'Risque_du_secteur', 'freq_depots', 'freq_des_retraits', 'Lieux_de_residence',\n",
    " 'Type_de_client', 'M_depot', 'M_retrait', 'M_recu', 'M_envoye',\n",
    " 'Z_t_recu', 'Z_t_envoye', 'Blanchiment'] \"\"\"\"\"\n"
   ]
  },
  {
   "cell_type": "code",
   "execution_count": 137,
   "metadata": {},
   "outputs": [],
   "source": [
    "import numpy as np\n",
    "\n",
    "client_data = np.array([[16, 1, 20,13,0, 1,9000000,9000000,4000000,0,1 ,1]])\n",
    "client_data = client_data.T"
   ]
  },
  {
   "cell_type": "code",
   "execution_count": 143,
   "metadata": {},
   "outputs": [
    {
     "data": {
      "text/plain": [
       "array([[0]])"
      ]
     },
     "execution_count": 143,
     "metadata": {},
     "output_type": "execute_result"
    }
   ],
   "source": [
    "resultat = modeleCC. predict(client_data)\n",
    "# Pour un DataFrame\n",
    "#resultat = modele.predict(client_df)\n",
    "resultat"
   ]
  },
  {
   "cell_type": "markdown",
   "metadata": {},
   "source": [
    "**Pour le premier finale**"
   ]
  },
  {
   "cell_type": "code",
   "execution_count": null,
   "metadata": {},
   "outputs": [],
   "source": [
    "import customtkinter as ctk\n",
    "import numpy as np\n",
    "import random  # utilisé pour la simulation\n",
    "import tkinter.messagebox as messagebox\n",
    "\n",
    "# Initialisation de customtkinter\n",
    "ctk.set_appearance_mode(\"System\")\n",
    "ctk.set_default_color_theme(\"blue\")\n",
    "\n",
    "# Création de la fenêtre principale\n",
    "root = ctk.CTk()\n",
    "root.title(\"Analyse de Risque du Blanchiment de Capitaux d'un client\")\n",
    "root.geometry(\"600x700\")\n",
    "\n",
    "# Labels des variables\n",
    "labels = [\n",
    "    \"Âge\", \"Risque du secteur\", \"Fréquence des dépôts\", \"Fréquence des retraits\",\n",
    "    \"Lieu de résidence\", \"Type de client\", \"Montant des dépôts\", \"Montant des retraits\",\n",
    "    \"Montant reçu\", \"Montant envoyé\", \"Zone de transfert reçu\", \"Zone de transfert envoyé\"\n",
    "]\n",
    "\n",
    "# Stockage des entrées\n",
    "entries = {}\n",
    "\n",
    "# --- En-têtes ---\n",
    "title_label = ctk.CTkLabel(\n",
    "    root,\n",
    "    text=\"LOGICIEL D'ANALYSE DE RISQUE D'UN CLIENT\",\n",
    "    font=(\"Arial\", 20, \"bold\")\n",
    ")\n",
    "title_label.pack(pady=(10,0))\n",
    "\n",
    "subtitle_label = ctk.CTkLabel(\n",
    "    root, text=\"BLANCHIMENT D'ARGENT\", font=(\"Arial\", 14)\n",
    ")\n",
    "subtitle_label.pack(pady=(0,10))\n",
    "\n",
    "# --- Description ---\n",
    "description_frame = ctk.CTkFrame(root, corner_radius=10)\n",
    "description_frame.pack(pady=10, fill=\"x\", padx=20)\n",
    "ctk.CTkLabel(\n",
    "    description_frame,\n",
    "    text=\"Entrez les informations du client pour évaluer son risque :\",\n",
    "    font=(\"Arial\", 12, \"italic\")\n",
    ").pack(pady=10)\n",
    "\n",
    "# --- Champs de saisie ---\n",
    "data_frame = ctk.CTkFrame(root, corner_radius=10)\n",
    "data_frame.pack(pady=10, padx=20, fill=\"both\", expand=True)\n",
    "\n",
    "for lbl in labels:\n",
    "    row = ctk.CTkFrame(data_frame, corner_radius=10)\n",
    "    row.pack(pady=5, fill=\"x\", padx=10)\n",
    "    ctk.CTkLabel(row, text=f\"{lbl} :\", font=(\"Arial\", 12)).pack(side=\"left\", padx=10)\n",
    "    var = ctk.StringVar()\n",
    "    ent = ctk.CTkEntry(row, textvariable=var, font=(\"Arial\", 12), corner_radius=10)\n",
    "    ent.pack(side=\"right\", fill=\"x\", expand=True, padx=10)\n",
    "    entries[lbl] = ent\n",
    "\n",
    "# --- Fonctions d’action ---\n",
    "def reinitialiser_champs(event=None):\n",
    "    \"\"\"Vide tous les champs (raccourci Ctrl+R).\"\"\"\n",
    "    for ent in entries.values():\n",
    "        ent.delete(0, \"end\")\n",
    "\n",
    "def Apprentissage_profond(event=None):\n",
    "    \"\"\"Exécute le modèle (raccourci Entrée).\"\"\"\n",
    "    try:\n",
    "        # Récupération et conversion\n",
    "        data = [int(entries[l].get()) for l in labels]\n",
    "        DAO = np.array(data).reshape(-1,1)  # transpose si nécessaire\n",
    "        \n",
    "        resultat = modeleCC. predict(DAO)\n",
    "        # Pour un DataFrame\n",
    "        #resultat = modele.predict(client_df)\n",
    "        resultat\n",
    "        blanchiment = \"Oui\" if resultat = array([[1]]) else \"Non\"\n",
    "\n",
    "        # Fenêtre de résultat\n",
    "        win = ctk.CTkToplevel(root)\n",
    "        win.title(\"Résultats\")\n",
    "        ctk.CTkLabel(\n",
    "            win,\n",
    "            text=f\"Pourcentage de risque : {F:.2%}\\nBlanchiment probable : {blanchiment}\",\n",
    "            font=(\"Arial\", 14)\n",
    "        ).pack(pady=20, padx=20)\n",
    "        ctk.CTkButton(win, text=\"Fermer\", command=win.destroy).pack(pady=(0,20))\n",
    "\n",
    "    except ValueError:\n",
    "        messagebox.showerror(\n",
    "            \"Erreur\",\n",
    "            \"Veuillez entrer des valeurs numériques valides dans tous les champs.\"\n",
    "        )\n",
    "\n",
    "# --- Boutons ---\n",
    "button_frame = ctk.CTkFrame(root, corner_radius=10)\n",
    "button_frame.pack(pady=20)\n",
    "\n",
    "btn_exec = ctk.CTkButton(\n",
    "    button_frame,\n",
    "    text=\"Exécuter le modèle    (Entrée)\",\n",
    "    command= modele,\n",
    "    width=200\n",
    ")\n",
    "btn_exec.pack(side=\"left\", padx=10)\n",
    "\n",
    "btn_reset = ctk.CTkButton(\n",
    "    button_frame,\n",
    "    text=\"Réinitialiser    (Ctrl+R)\",\n",
    "    command=reinitialiser_champs,\n",
    "    fg_color=\"#FF3333\", hover_color=\"#CC0000\",\n",
    "    width=200\n",
    ")\n",
    "btn_reset.pack(side=\"left\", padx=10)\n",
    "\n",
    "btn_close = ctk.CTkButton(\n",
    "    root,\n",
    "    text=\"Fermer    (Échap)\",\n",
    "    command=root.destroy\n",
    ")\n",
    "btn_close.pack(pady=(0,20))\n",
    "\n",
    "# --- Bindings clavier ---\n",
    "root.bind(\"<Return>\", Apprentissage_profond)\n",
    "root.bind(\"<Escape>\", lambda e: root.destroy())\n",
    "root.bind(\"<Control-r>\", reinitialiser_champs)\n",
    "\n",
    "# --- Lancement de l’application ---\n",
    "root.mainloop()\n"
   ]
  },
  {
   "cell_type": "code",
   "execution_count": null,
   "metadata": {},
   "outputs": [],
   "source": [
    "# =======================\n",
    "# 🔹 IMPORTATIONS\n",
    "# =======================\n",
    "import customtkinter as ctk\n",
    "import numpy as np\n",
    "import random  # Pour d'éventuelles simulations\n",
    "import tkinter.messagebox as messagebox\n",
    "\n",
    "# =======================\n",
    "# 🔹 CONFIGURATION DE L'INTERFACE\n",
    "# =======================\n",
    "ctk.set_appearance_mode(\"System\")\n",
    "ctk.set_default_color_theme(\"blue\")\n",
    "\n",
    "# =======================\n",
    "# 🔹 FENÊTRE PRINCIPALE\n",
    "# =======================\n",
    "root = ctk.CTk()\n",
    "root.title(\"Analyse de Risque du Blanchiment de Capitaux d'un client\")\n",
    "root.geometry(\"600x700\")\n",
    "\n",
    "# =======================\n",
    "# 🔹 LISTE DES VARIABLES À SAISIR\n",
    "# =======================\n",
    "labels = [\n",
    "    \"Âge\", \"Risque du secteur\", \"Fréquence des dépôts\", \"Fréquence des retraits\",\n",
    "    \"Lieu de résidence\", \"Type de client\", \"Montant des dépôts\", \"Montant des retraits\",\n",
    "    \"Montant reçu\", \"Montant envoyé\", \"Zone de transfert reçu\", \"Zone de transfert envoyé\"\n",
    "]\n",
    "entries = {}  # Dictionnaire pour stocker les champs de saisie\n",
    "\n",
    "# =======================\n",
    "# 🔹 TITRES PRINCIPAUX\n",
    "# =======================\n",
    "title_label = ctk.CTkLabel(root, text=\"LOGICIEL D'ANALYSE DE RISQUE D'UN CLIENT\", font=(\"Arial\", 20, \"bold\"))\n",
    "title_label.pack(pady=(10, 0))\n",
    "\n",
    "subtitle_label = ctk.CTkLabel(root, text=\"BLANCHIMENT D'ARGENT\", font=(\"Arial\", 14))\n",
    "subtitle_label.pack(pady=(0, 10))\n",
    "\n",
    "# =======================\n",
    "# 🔹 DESCRIPTION\n",
    "# =======================\n",
    "description_frame = ctk.CTkFrame(root, corner_radius=10)\n",
    "description_frame.pack(pady=10, fill=\"x\", padx=20)\n",
    "ctk.CTkLabel(description_frame, text=\"Entrez les informations du client pour évaluer son risque :\", font=(\"Arial\", 12, \"italic\")).pack(pady=10)\n",
    "\n",
    "# =======================\n",
    "# 🔹 CHAMPS DE SAISIE\n",
    "# =======================\n",
    "data_frame = ctk.CTkFrame(root, corner_radius=10)\n",
    "data_frame.pack(pady=10, padx=20, fill=\"both\", expand=True)\n",
    "\n",
    "for lbl in labels:\n",
    "    row = ctk.CTkFrame(data_frame, corner_radius=10)\n",
    "    row.pack(pady=5, fill=\"x\", padx=10)\n",
    "    ctk.CTkLabel(row, text=f\"{lbl} :\", font=(\"Arial\", 12)).pack(side=\"left\", padx=10)\n",
    "    var = ctk.StringVar()\n",
    "    ent = ctk.CTkEntry(row, textvariable=var, font=(\"Arial\", 12), corner_radius=10)\n",
    "    ent.pack(side=\"right\", fill=\"x\", expand=True, padx=10)\n",
    "    entries[lbl] = ent\n",
    "\n",
    "# =======================\n",
    "# 🔹 FONCTIONS UTILITAIRES\n",
    "# =======================\n",
    "def reinitialiser_champs(event=None):\n",
    "    \"\"\"Vide tous les champs de saisie.\"\"\"\n",
    "    for ent in entries.values():\n",
    "        ent.delete(0, \"end\")\n",
    "\n",
    "def Apprentissage_profond(event=None):\n",
    "    \"\"\"Applique le modèle et affiche le résultat.\"\"\"\n",
    "    try:\n",
    "        # Récupération des données\n",
    "        data = [float(entries[l].get()) for l in labels]  # conversion en float\n",
    "        DAO = np.array(data).reshape(1, -1)  # 1 ligne, n colonnes\n",
    "        \n",
    "        # Prédiction avec le modèle chargé (à définir avant dans votre script)\n",
    "        resultat = modeleCC.predict(DAO)\n",
    "        proba = modeleCC.predict_proba(DAO)[0][1]  # Probabilité que ce soit 1\n",
    "        \n",
    "        blanchiment = \"Oui\" if resultat[0] == 1 else \"Non\"\n",
    "\n",
    "        # Fenêtre de résultat\n",
    "        win = ctk.CTkToplevel(root)\n",
    "        win.title(\"Résultats\")\n",
    "        ctk.CTkLabel(\n",
    "            win,\n",
    "            text=f\"Probabilité de risque : {proba:.2%}\\nBlanchiment probable : {blanchiment}\",\n",
    "            font=(\"Arial\", 14)\n",
    "        ).pack(pady=20, padx=20)\n",
    "        ctk.CTkButton(win, text=\"Fermer\", command=win.destroy).pack(pady=(0, 20))\n",
    "\n",
    "    except ValueError:\n",
    "        messagebox.showerror(\n",
    "            \"Erreur\",\n",
    "            \"Veuillez entrer des valeurs numériques valides dans tous les champs.\"\n",
    "        )\n",
    "\n",
    "# =======================\n",
    "# 🔹 BOUTONS D’ACTION\n",
    "# =======================\n",
    "button_frame = ctk.CTkFrame(root, corner_radius=10)\n",
    "button_frame.pack(pady=20)\n",
    "\n",
    "btn_exec = ctk.CTkButton(\n",
    "    button_frame,\n",
    "    text=\"Exécuter le modèle    (Entrée)\",\n",
    "    command=Apprentissage_profond,\n",
    "    width=200\n",
    ")\n",
    "btn_exec.pack(side=\"left\", padx=10)\n",
    "\n",
    "btn_reset = ctk.CTkButton(\n",
    "    button_frame,\n",
    "    text=\"Réinitialiser    (Ctrl+R)\",\n",
    "    command=reinitialiser_champs,\n",
    "    fg_color=\"#FF3333\",\n",
    "    hover_color=\"#CC0000\",\n",
    "    width=200\n",
    ")\n",
    "btn_reset.pack(side=\"left\", padx=10)\n",
    "\n",
    "btn_close = ctk.CTkButton(\n",
    "    root,\n",
    "    text=\"Fermer    (Échap)\",\n",
    "    command=root.destroy\n",
    ")\n",
    "btn_close.pack(pady=(0, 20))\n",
    "\n",
    "# =======================\n",
    "# 🔹 RACCOURCIS CLAVIER\n",
    "# =======================\n",
    "root.bind(\"<Return>\", Apprentissage_profond)\n",
    "root.bind(\"<Escape>\", lambda e: root.destroy())\n",
    "root.bind(\"<Control-r>\", reinitialiser_champs)\n",
    "\n",
    "# =======================\n",
    "# 🔹 LANCEMENT DE L’APPLICATION\n",
    "# =======================\n",
    "root.mainloop()"
   ]
  },
  {
   "cell_type": "markdown",
   "metadata": {},
   "source": [
    "**Transformationn en un modèle**"
   ]
  },
  {
   "cell_type": "code",
   "execution_count": 119,
   "metadata": {},
   "outputs": [],
   "source": [
    "import numpy as np\n",
    "import matplotlib.pyplot as plt\n",
    "from tqdm import tqdm\n",
    "from sklearn.metrics import accuracy_score, log_loss\n",
    "\n",
    "def initialisation(dimensions):\n",
    "    parametres = {}\n",
    "    C = len(dimensions) - 1  \n",
    "    for c in range(1, C + 1):\n",
    "        parametres['W' + str(c)] = np.random.randn(dimensions[c], dimensions[c-1]) * 0.01\n",
    "        parametres['b' + str(c)] = np.zeros((dimensions[c], 1))\n",
    "    return parametres\n",
    "\n",
    "def sigmoid(Z):\n",
    "    Z = np.clip(Z, -700, 700)\n",
    "    return 1 / (1 + np.exp(-Z))\n",
    "\n",
    "def sigmoid_derivative(A):\n",
    "    return A * (1 - A)\n",
    "\n",
    "def forward_propagation(X, parametres):\n",
    "    activations = {'A0': X.T}\n",
    "    C = len(parametres) // 2\n",
    "    for c in range(1, C + 1):\n",
    "        W = parametres['W' + str(c)]\n",
    "        b = parametres['b' + str(c)]\n",
    "        A_prev = activations['A' + str(c-1)]\n",
    "        Z = np.dot(W, A_prev) + b\n",
    "        A = sigmoid(Z)\n",
    "        activations['Z' + str(c)] = Z\n",
    "        activations['A' + str(c)] = A\n",
    "    return activations\n",
    "\n",
    "def back_propagation(y, parametres, activations):\n",
    "    gradients = {}\n",
    "    m = y.shape[0]\n",
    "    y = y.reshape(activations['A' + str(len(parametres)//2)].T.shape)\n",
    "    \n",
    "    C = len(parametres) // 2\n",
    "    dA = activations['A' + str(C)] - y.T  \n",
    "    for c in reversed(range(1, C + 1)):\n",
    "        A_prev = activations['A' + str(c-1)]\n",
    "        Z = activations['Z' + str(c)]\n",
    "        A = activations['A' + str(c)]\n",
    "        dZ = dA * sigmoid_derivative(A)\n",
    "        dW = (1/m) * np.dot(dZ, A_prev.T)\n",
    "        db = (1/m) * np.sum(dZ, axis=1, keepdims=True)\n",
    "        gradients[\"dW\" + str(c)] = dW\n",
    "        gradients[\"db\" + str(c)] = db\n",
    "        if c > 1:\n",
    "            W = parametres['W' + str(c)]\n",
    "            dA = np.dot(W.T, dZ)\n",
    "    return gradients\n",
    "\n",
    "def update(gradients, parametres, learning_rate):\n",
    "    C = len(parametres) // 2\n",
    "    for c in range(1, C + 1):\n",
    "        parametres['W' + str(c)] -= learning_rate * gradients['dW' + str(c)]\n",
    "        parametres['b' + str(c)] -= learning_rate * gradients['db' + str(c)]\n",
    "    return parametres\n",
    "\n",
    "def predict(self, X):\n",
    "    # Si les données sont au format (n_samples, n_features), on les transpose\n",
    "    if X.shape[0] > X.shape[1]:\n",
    "        X = X.T  # devient (n_features, n_samples)\n",
    "\n",
    "    y_pred = predict(X, self.parametres)  # résultat: (1, n_samples) ou (1, N)\n",
    "    \n",
    "    # On retourne la sortie sous forme (n_samples, 1)\n",
    "    return y_pred.T  \n",
    "\n",
    "class ApprentissageProfondModel:\n",
    "    def __init__(self, parametres):\n",
    "        self.parametres = parametres\n",
    "\n",
    "    def predict(self, X):\n",
    "        if X.shape[0] > X.shape[1]:  # si les données sont sous forme (n_samples, n_features)\n",
    "            X = X.T  # on transpose pour correspondre au modèle\n",
    "        y_pred = predict(X, self.parametres)\n",
    "        return y_pred.T \n",
    "\n",
    "    def score(self, X, y):\n",
    "        y_pred = self.predict(X)\n",
    "        return accuracy_score(y.flatten(), y_pred.flatten())\n",
    "\n",
    "def Apprentissage_profond_DAO(X_train, y_train, hidden_layers=(32, 32, 16), learning_rate=0.02, n_iter=1000):\n",
    "    # initialisation paramètres\n",
    "    dimensions = list(hidden_layers)\n",
    "    dimensions.insert(0, X_train.shape[1])  \n",
    "    dimensions.append(y_train.shape[1] if len(y_train.shape) > 1 else 1) \n",
    "\n",
    "    np.random.seed(1)\n",
    "    parametres = initialisation(dimensions)\n",
    "    \n",
    "    training_history = np.zeros((int(n_iter), 2))\n",
    "\n",
    "    C = len(parametres) // 2\n",
    "\n",
    "    for i in tqdm(range(n_iter)):\n",
    "        activations = forward_propagation(X_train, parametres)\n",
    "        gradients = back_propagation(y_train, parametres, activations)\n",
    "        parametres = update(gradients, parametres, learning_rate)\n",
    "        Af = activations['A' + str(C)]\n",
    "\n",
    "        training_history[i, 0] = log_loss(y_train.flatten(), Af.flatten())\n",
    "        y_pred = predict(X_train, parametres)\n",
    "        training_history[i, 1] = accuracy_score(y_train.flatten(), y_pred.flatten())\n",
    "\n",
    "   \n",
    "    plt.figure(figsize=(12, 4))\n",
    "    plt.subplot(1, 2, 1)\n",
    "    plt.plot(training_history[:, 0], label=\"Perte\")\n",
    "    plt.title(\"Courbe de perte\")\n",
    "    plt.legend()\n",
    "    plt.subplot(1, 2, 2)\n",
    "    plt.plot(training_history[:, 1], label=\"Précision\")\n",
    "    plt.title(\"Courbe de précision\")\n",
    "    plt.legend()\n",
    "    plt.show()\n",
    "    return ApprentissageProfondModel(parametres)\n"
   ]
  },
  {
   "cell_type": "code",
   "execution_count": 120,
   "metadata": {},
   "outputs": [],
   "source": [
    "modDAO = ApprentissageProfondModel(parametres)"
   ]
  },
  {
   "cell_type": "code",
   "execution_count": 121,
   "metadata": {},
   "outputs": [
    {
     "data": {
      "text/plain": [
       "<__main__.ApprentissageProfondModel at 0x1e8013ef980>"
      ]
     },
     "execution_count": 121,
     "metadata": {},
     "output_type": "execute_result"
    }
   ],
   "source": [
    "modDAO"
   ]
  },
  {
   "cell_type": "code",
   "execution_count": 125,
   "metadata": {},
   "outputs": [
    {
     "ename": "AttributeError",
     "evalue": "'dict' object has no attribute 'shape'",
     "output_type": "error",
     "traceback": [
      "\u001b[1;31m---------------------------------------------------------------------------\u001b[0m",
      "\u001b[1;31mAttributeError\u001b[0m                            Traceback (most recent call last)",
      "Cell \u001b[1;32mIn[125], line 1\u001b[0m\n\u001b[1;32m----> 1\u001b[0m modDAO\u001b[38;5;241m.\u001b[39mpredict(X_test\u001b[38;5;241m.\u001b[39mT)\n\u001b[0;32m      2\u001b[0m modDAO\u001b[38;5;241m.\u001b[39mscore(X_test\u001b[38;5;241m.\u001b[39mT, y_test\u001b[38;5;241m.\u001b[39mT)\n",
      "Cell \u001b[1;32mIn[119], line 79\u001b[0m, in \u001b[0;36mApprentissageProfondModel.predict\u001b[1;34m(self, X)\u001b[0m\n\u001b[0;32m     77\u001b[0m \u001b[38;5;28;01mif\u001b[39;00m X\u001b[38;5;241m.\u001b[39mshape[\u001b[38;5;241m0\u001b[39m] \u001b[38;5;241m>\u001b[39m X\u001b[38;5;241m.\u001b[39mshape[\u001b[38;5;241m1\u001b[39m]:  \u001b[38;5;66;03m# si les données sont sous forme (n_samples, n_features)\u001b[39;00m\n\u001b[0;32m     78\u001b[0m     X \u001b[38;5;241m=\u001b[39m X\u001b[38;5;241m.\u001b[39mT  \u001b[38;5;66;03m# on transpose pour correspondre au modèle\u001b[39;00m\n\u001b[1;32m---> 79\u001b[0m y_pred \u001b[38;5;241m=\u001b[39m predict(X, \u001b[38;5;28mself\u001b[39m\u001b[38;5;241m.\u001b[39mparametres)\n\u001b[0;32m     80\u001b[0m \u001b[38;5;28;01mreturn\u001b[39;00m y_pred\u001b[38;5;241m.\u001b[39mT\n",
      "Cell \u001b[1;32mIn[119], line 64\u001b[0m, in \u001b[0;36mpredict\u001b[1;34m(self, X)\u001b[0m\n\u001b[0;32m     62\u001b[0m \u001b[38;5;28;01mdef\u001b[39;00m \u001b[38;5;21mpredict\u001b[39m(\u001b[38;5;28mself\u001b[39m, X):\n\u001b[0;32m     63\u001b[0m     \u001b[38;5;66;03m# Si les données sont au format (n_samples, n_features), on les transpose\u001b[39;00m\n\u001b[1;32m---> 64\u001b[0m     \u001b[38;5;28;01mif\u001b[39;00m X\u001b[38;5;241m.\u001b[39mshape[\u001b[38;5;241m0\u001b[39m] \u001b[38;5;241m>\u001b[39m X\u001b[38;5;241m.\u001b[39mshape[\u001b[38;5;241m1\u001b[39m]:\n\u001b[0;32m     65\u001b[0m         X \u001b[38;5;241m=\u001b[39m X\u001b[38;5;241m.\u001b[39mT  \u001b[38;5;66;03m# devient (n_features, n_samples)\u001b[39;00m\n\u001b[0;32m     67\u001b[0m     y_pred \u001b[38;5;241m=\u001b[39m predict(X, \u001b[38;5;28mself\u001b[39m\u001b[38;5;241m.\u001b[39mparametres)  \u001b[38;5;66;03m# résultat: (1, n_samples) ou (1, N)\u001b[39;00m\n",
      "\u001b[1;31mAttributeError\u001b[0m: 'dict' object has no attribute 'shape'"
     ]
    }
   ],
   "source": [
    "modDAO.predict(X_test.T)\n",
    "modDAO.score(X_test.T, y_test.T)"
   ]
  },
  {
   "cell_type": "markdown",
   "metadata": {},
   "source": [
    "**L'entrainement du Modèle**"
   ]
  },
  {
   "cell_type": "code",
   "execution_count": 215,
   "metadata": {},
   "outputs": [],
   "source": [
    "#from tensorflow.keras.models import Sequential\n",
    "#from tensorflow.keras.layers import Dense\n",
    "\n",
    "#def Apprentissage_profond_DAO(X_train, y_train):\n",
    "#    modDAO = Sequential()\n",
    "#    modDAO.add(Dense(64, activation='relu', input_shape=(X_train.shape[1],)))\n",
    "#    modDAO.add(Dense(1, activation='sigmoid'))\n",
    "    \n",
    "#    modDAO.compile(optimizer='adam', loss='binary_crossentropy', metrics=['accuracy'])\n",
    "    \n",
    "#    return model  # <-- tu dois retourner le modèle, pas l'entrainer ici"
   ]
  },
  {
   "cell_type": "markdown",
   "metadata": {},
   "source": [
    "**Tester le modèle**"
   ]
  },
  {
   "cell_type": "markdown",
   "metadata": {},
   "source": [
    "**Déploiyement avec mlflow**"
   ]
  },
  {
   "cell_type": "markdown",
   "metadata": {},
   "source": [
    "**https://moncoachdata.com/blog/comment-deployer-des-modeles-de-machine-learning-comme-un-pro/**"
   ]
  },
  {
   "cell_type": "markdown",
   "metadata": {},
   "source": [
    "**Étape 2 : Sauvegarder le modèle entraîné**"
   ]
  },
  {
   "cell_type": "code",
   "execution_count": 118,
   "metadata": {},
   "outputs": [
    {
     "name": "stdout",
     "output_type": "stream",
     "text": [
      "Requirement already satisfied: joblib in c:\\users\\issad\\anaconda3.13\\lib\\site-packages (1.4.2)\n"
     ]
    }
   ],
   "source": [
    "!pip install joblib"
   ]
  },
  {
   "cell_type": "code",
   "execution_count": 364,
   "metadata": {},
   "outputs": [],
   "source": [
    "import joblib\n",
    "# Sauvegarder le modèle dans un fichier\n",
    "#joblib.dump(modDAO, 'modDAO.pkl')"
   ]
  },
  {
   "cell_type": "markdown",
   "metadata": {},
   "source": [
    "**Étape 3 : Choisir une stratégie de déploiement**"
   ]
  },
  {
   "cell_type": "markdown",
   "metadata": {},
   "source": [
    "Il existe plusieurs façons de déployer un modèle de Machine Learning en production, en fonction de ton cas d’utilisation et de ton infrastructure.\n",
    "\n",
    "**Voici quelques stratégies courantes :**\n",
    "\n",
    "**Déploiement basé sur l’API REST**\n",
    "Le déploiement de ton modèle en tant qu’API REST permet à d’autres applications ou systèmes d’envoyer des requêtes HTTP à ton modèle et d’obtenir des prédictions en retour. Cela est utile pour les applications web, les applications mobiles et d’autres systèmes en ligne.\n",
    "\n",
    "**Traitement par lots**\n",
    "Dans le traitement par lots, le modèle est exécuté périodiquement sur de grands ensembles de données (par exemple, tous les jours ou toutes les semaines) et produit des prédictions qui sont stockées pour une utilisation ultérieure. Ce type de traitement est courant dans des secteurs tels que la finance et la santé, où les décisions n’ont pas besoin d’être prises en temps réel.\n",
    "\n",
    "**Données en continu**\n",
    "Pour les prédictions en temps réel sur des données arrivant en continu, les modèles peuvent être déployés dans le cadre d’un pipeline de données en continu à l’aide d’outils tels qu’Apache Kafka ou Flink."
   ]
  },
  {
   "cell_type": "markdown",
   "metadata": {},
   "source": [
    "**Étape 4 : Déployer le modèle en tant qu’API REST**"
   ]
  },
  {
   "cell_type": "markdown",
   "metadata": {},
   "source": [
    "L’approche la plus courante consiste à servir ton modèle en tant qu’API REST à l’aide d’un framework web léger tel que Flask ou FastAPI.\n",
    "\n",
    "**Exemple : Déploiement avec Flask**\n",
    "\n",
    "**Créer une application Flask**\n",
    "Crée d’abord un fichier Python (app.py) pour définir l’API et charger le modèle entraîné."
   ]
  },
  {
   "cell_type": "code",
   "execution_count": 127,
   "metadata": {},
   "outputs": [
    {
     "ename": "FileNotFoundError",
     "evalue": "[Errno 2] No such file or directory: 'modelecharge.pkl'",
     "output_type": "error",
     "traceback": [
      "\u001b[1;31m---------------------------------------------------------------------------\u001b[0m",
      "\u001b[1;31mFileNotFoundError\u001b[0m                         Traceback (most recent call last)",
      "Cell \u001b[1;32mIn[127], line 4\u001b[0m\n\u001b[0;32m      1\u001b[0m \u001b[38;5;28;01mfrom\u001b[39;00m \u001b[38;5;21;01mflask\u001b[39;00m \u001b[38;5;28;01mimport\u001b[39;00m Flask, request, jsonify\n\u001b[0;32m      2\u001b[0m \u001b[38;5;28;01mimport\u001b[39;00m \u001b[38;5;21;01mjoblib\u001b[39;00m\n\u001b[1;32m----> 4\u001b[0m model \u001b[38;5;241m=\u001b[39m joblib\u001b[38;5;241m.\u001b[39mload(\u001b[38;5;124m'\u001b[39m\u001b[38;5;124mmodelecharge.pkl\u001b[39m\u001b[38;5;124m'\u001b[39m)\n\u001b[0;32m      5\u001b[0m app \u001b[38;5;241m=\u001b[39m Flask(\u001b[38;5;18m__name__\u001b[39m)\n\u001b[0;32m      7\u001b[0m \u001b[38;5;129m@app\u001b[39m\u001b[38;5;241m.\u001b[39mroute(\u001b[38;5;124m'\u001b[39m\u001b[38;5;124m/predict\u001b[39m\u001b[38;5;124m'\u001b[39m, methods\u001b[38;5;241m=\u001b[39m[\u001b[38;5;124m'\u001b[39m\u001b[38;5;124mPOST\u001b[39m\u001b[38;5;124m'\u001b[39m])\n\u001b[0;32m      8\u001b[0m \u001b[38;5;28;01mdef\u001b[39;00m \u001b[38;5;21mpredict\u001b[39m():\n",
      "File \u001b[1;32m~\\Anaconda3.13\\Lib\\site-packages\\joblib\\numpy_pickle.py:650\u001b[0m, in \u001b[0;36mload\u001b[1;34m(filename, mmap_mode)\u001b[0m\n\u001b[0;32m    648\u001b[0m         obj \u001b[38;5;241m=\u001b[39m _unpickle(fobj)\n\u001b[0;32m    649\u001b[0m \u001b[38;5;28;01melse\u001b[39;00m:\n\u001b[1;32m--> 650\u001b[0m     \u001b[38;5;28;01mwith\u001b[39;00m \u001b[38;5;28mopen\u001b[39m(filename, \u001b[38;5;124m'\u001b[39m\u001b[38;5;124mrb\u001b[39m\u001b[38;5;124m'\u001b[39m) \u001b[38;5;28;01mas\u001b[39;00m f:\n\u001b[0;32m    651\u001b[0m         \u001b[38;5;28;01mwith\u001b[39;00m _read_fileobject(f, filename, mmap_mode) \u001b[38;5;28;01mas\u001b[39;00m fobj:\n\u001b[0;32m    652\u001b[0m             \u001b[38;5;28;01mif\u001b[39;00m \u001b[38;5;28misinstance\u001b[39m(fobj, \u001b[38;5;28mstr\u001b[39m):\n\u001b[0;32m    653\u001b[0m                 \u001b[38;5;66;03m# if the returned file object is a string, this means we\u001b[39;00m\n\u001b[0;32m    654\u001b[0m                 \u001b[38;5;66;03m# try to load a pickle file generated with an version of\u001b[39;00m\n\u001b[0;32m    655\u001b[0m                 \u001b[38;5;66;03m# Joblib so we load it with joblib compatibility function.\u001b[39;00m\n",
      "\u001b[1;31mFileNotFoundError\u001b[0m: [Errno 2] No such file or directory: 'modelecharge.pkl'"
     ]
    }
   ],
   "source": [
    "from flask import Flask, request, jsonify\n",
    "import joblib\n",
    "\n",
    "model = joblib.load('modelecharge.pkl')\n",
    "app = Flask(__name__)\n",
    "\n",
    "@app.route('/predict', methods=['POST'])\n",
    "def predict():\n",
    "    data = request.get_json() \n",
    "    prediction = model.predict([data['features']])\n",
    "    return jsonify({'prediction': int(prediction[0])})\n",
    "if __name__ == '__main__':\n",
    "    app.run(debug=True)"
   ]
  },
  {
   "cell_type": "markdown",
   "metadata": {},
   "source": [
    "**Exécuter l’application Flask**\n",
    "Pour exécuter l’application Flask localement :"
   ]
  },
  {
   "cell_type": "code",
   "execution_count": null,
   "metadata": {},
   "outputs": [],
   "source": [
    "python app.py"
   ]
  },
  {
   "cell_type": "markdown",
   "metadata": {},
   "source": [
    "Tu peux maintenant envoyer des requêtes au point de terminaison de ton modèle à l’adresse http://localhost:5000/predict et obtenir des prédictions.\n",
    "\n",
    "Exemple : Envoi d’une requête POST pour une prédiction\n",
    "\n",
    "Pour obtenir des prédictions, tu peux envoyer une requête POST avec des features au format JSON :"
   ]
  },
  {
   "cell_type": "code",
   "execution_count": null,
   "metadata": {},
   "outputs": [],
   "source": [
    "curl -X POST http://localhost:5000/predict -H \"Content-Type: application/json\" -d '{\"features\": [5.1, 3.5, 1.4, 0.2]}'"
   ]
  },
  {
   "cell_type": "markdown",
   "metadata": {},
   "source": [
    "**Étape 5 : Conteneuriser l’application avec Docker**"
   ]
  },
  {
   "cell_type": "markdown",
   "metadata": {},
   "source": [
    "Les conteneurs sont un moyen populaire de déployer des modèles de Machine Learning, car ils assurent la cohérence entre les différents environnements (local, staging, production).\n",
    "\n",
    "Étapes de la mise en place d’un modèle Docker :\n",
    "\n",
    "Installer Docker : Assure-toi que Docker est installé sur ta machine.\n",
    "Créer un fichier Docker : Ce fichier définit l’environnement dans lequel ton modèle s’exécutera.\n",
    "**Voici un exemple de fichier Docker simple :**"
   ]
  },
  {
   "cell_type": "code",
   "execution_count": null,
   "metadata": {},
   "outputs": [],
   "source": [
    "# Utiliser un runtime Python officiel comme image mère\n",
    "!FROM python:3.9-slim\n",
    "# Définir le répertoire de travail\n",
    "!WORKDIR /app\n",
    "# Copier le contenu du répertoire actuel dans le conteneur à /app\n",
    "!COPY . /app\n",
    "# Installer les paquets nécessaires\n",
    "!RUN pip install -r requirements.txt\n",
    "# Rendre le port 5000 accessible au monde extérieur à ce conteneur\n",
    "!EXPOSE 5000\n",
    "# Exécuter app.py au lancement du conteneur\n",
    "!CMD [\"python\", \"app.py\"]"
   ]
  },
  {
   "cell_type": "markdown",
   "metadata": {},
   "source": [
    "Construire l’image Docker :"
   ]
  },
  {
   "cell_type": "code",
   "execution_count": null,
   "metadata": {},
   "outputs": [],
   "source": [
    "!docker build -t ml-model-api "
   ]
  },
  {
   "cell_type": "code",
   "execution_count": null,
   "metadata": {},
   "outputs": [],
   "source": [
    "!Exécuter le conteneur Docker :"
   ]
  },
  {
   "cell_type": "code",
   "execution_count": null,
   "metadata": {},
   "outputs": [],
   "source": [
    "!docker run -p 5000:5000 ml-model-api"
   ]
  },
  {
   "cell_type": "markdown",
   "metadata": {},
   "source": [
    "Ton modèle s’exécute maintenant dans un conteneur Docker et est accessible depuis n’importe quel environnement prenant en charge Docker."
   ]
  },
  {
   "cell_type": "markdown",
   "metadata": {},
   "source": [
    "**Étape 6 : Déployer vers une plateforme Cloud**"
   ]
  },
  {
   "cell_type": "markdown",
   "metadata": {},
   "source": [
    "Une fois ton modèle conteneurisé, l’étape suivante consiste à le déployer dans le cloud. Il existe plusieurs plateformes cloud pour déployer des modèles de Machine Learning, telles que\n",
    "\n",
    "AWS : Utilise AWS Elastic Beanstalk, AWS Lambda ou SageMaker.\n",
    "Google Cloud : Déployer sur Google Cloud Run ou AI Platform.\n",
    "Microsoft Azure : Utilise Azure ML ou App Service.\n",
    "Par exemple, pour déployer ton modèle conteneurisé sur AWS Elastic Beanstalk :\n",
    "\n",
    "Installer le CLI EB : le CLI AWS Elastic Beanstalk t’aide à créer et à gérer ton application."
   ]
  },
  {
   "cell_type": "code",
   "execution_count": null,
   "metadata": {},
   "outputs": [],
   "source": [
    "!pip install awsebcli"
   ]
  },
  {
   "cell_type": "markdown",
   "metadata": {},
   "source": [
    "Initialiser l’environnement EB:"
   ]
  },
  {
   "cell_type": "code",
   "execution_count": null,
   "metadata": {},
   "outputs": [],
   "source": [
    "!eb init"
   ]
  },
  {
   "cell_type": "markdown",
   "metadata": {},
   "source": [
    "Déployer l’application :"
   ]
  },
  {
   "cell_type": "code",
   "execution_count": null,
   "metadata": {},
   "outputs": [],
   "source": [
    "!eb create ml-api-env"
   ]
  },
  {
   "cell_type": "markdown",
   "metadata": {},
   "source": [
    "Accéder à l’application : Une fois l’application déployée, AWS fournira une URL où l’API de votre modèle sera hébergée."
   ]
  },
  {
   "cell_type": "markdown",
   "metadata": {},
   "source": [
    "**Étape 7 : Contrôler et mettre à jour le modèle**"
   ]
  },
  {
   "cell_type": "markdown",
   "metadata": {},
   "source": [
    "Le déploiement n’est pas la fin du périple. Après le déploiement, tu dois surveiller ou monitorer les performances du modèle, gérer les problèmes de mise à l’échelle et mettre périodiquement le modèle à jour lorsque de nouvelles données sont disponibles.\n",
    "\n",
    "**Monitoring :** Utilise des outils de surveillance pour suivre les performances de ton modèle en production. Tu peux surveiller des paramètres tels que la latence, le taux d’erreur et la dérive de la précision au fil du temps.\n",
    "**Mise à l’échelle (scaling) :** Si l’application doit gérer un grand nombre de demandes, des outils de mise à l’échelle automatique comme Kubernetes ou AWS Auto Scaling peuvent aider à gérer la charge.\n",
    "**Versioning :** Maintiens le contrôle des versions de tes modèles. Des outils comme MLflow et DVC (Data Version Control) peuvent aider à suivre les différentes versions de tes modèles, ce qui facilite le retour à une version antérieure si nécessaire."
   ]
  },
  {
   "cell_type": "markdown",
   "metadata": {},
   "source": [
    "Le déploiement de modèles de Machine Learning à partir de Jupyter Notebooks vers la production ne se limite pas à l’écriture de code : il s’agit de s’assurer que ton modèle est robuste, évolutif et accessible.\n",
    "\n",
    "En sauvegardant le modèle, en le servant via une API, en le conteneurisant avec Docker et en le déployant sur le cloud, tu peux passer de l’expérimentation à une solution prête pour la production.\n",
    "\n",
    "Avec une surveillance et une maintenance appropriées, ton modèle de Machine Learning peut apporter une valeur réelle aux utilisateurs dans des environnements réels."
   ]
  },
  {
   "cell_type": "markdown",
   "metadata": {},
   "source": [
    "**HMM**"
   ]
  },
  {
   "cell_type": "code",
   "execution_count": 124,
   "metadata": {},
   "outputs": [
    {
     "name": "stdout",
     "output_type": "stream",
     "text": [
      "Collecting hmmlearn\n",
      "  Downloading hmmlearn-0.3.3-cp312-cp312-win_amd64.whl.metadata (3.1 kB)\n",
      "Requirement already satisfied: numpy>=1.10 in c:\\users\\issad\\anaconda3.13\\lib\\site-packages (from hmmlearn) (1.26.4)\n",
      "Requirement already satisfied: scikit-learn!=0.22.0,>=0.16 in c:\\users\\issad\\anaconda3.13\\lib\\site-packages (from hmmlearn) (1.5.1)\n",
      "Requirement already satisfied: scipy>=0.19 in c:\\users\\issad\\anaconda3.13\\lib\\site-packages (from hmmlearn) (1.13.1)\n",
      "Requirement already satisfied: joblib>=1.2.0 in c:\\users\\issad\\anaconda3.13\\lib\\site-packages (from scikit-learn!=0.22.0,>=0.16->hmmlearn) (1.4.2)\n",
      "Requirement already satisfied: threadpoolctl>=3.1.0 in c:\\users\\issad\\anaconda3.13\\lib\\site-packages (from scikit-learn!=0.22.0,>=0.16->hmmlearn) (3.5.0)\n",
      "Downloading hmmlearn-0.3.3-cp312-cp312-win_amd64.whl (127 kB)\n",
      "Installing collected packages: hmmlearn\n",
      "Successfully installed hmmlearn-0.3.3\n"
     ]
    }
   ],
   "source": [
    "!pip install hmmlearn"
   ]
  },
  {
   "cell_type": "code",
   "execution_count": 21,
   "metadata": {},
   "outputs": [
    {
     "name": "stdout",
     "output_type": "stream",
     "text": [
      "Prédictions sur X_test: [0 2 2 ... 0 0 2]\n",
      "Étiquettes réelles sur X_test: 35363    0\n",
      "43649    0\n",
      "60832    0\n",
      "37399    0\n",
      "61034    0\n",
      "        ..\n",
      "87507    0\n",
      "22905    0\n",
      "17212    0\n",
      "7986     0\n",
      "46435    0\n",
      "Name: Blanchiment, Length: 30000, dtype: int64\n",
      "Accuracy: 0.4791\n"
     ]
    }
   ],
   "source": [
    "import numpy as np\n",
    "from hmmlearn import hmm\n",
    "from sklearn.preprocessing import StandardScaler\n",
    "\n",
    "# Normaliser les données si nécessaire\n",
    "scaler = StandardScaler()\n",
    "X_train = scaler.fit_transform(X_train)\n",
    "X_test = scaler.transform(X_test)\n",
    "\n",
    "# Initialisation du modèle HMM 5 états cachés)\n",
    "model = hmm.GaussianHMM(n_components=3, covariance_type=\"diag\", n_iter=1000)\n",
    "\n",
    "# Entraîner le modèle avec X_train\n",
    "model.fit(X_train)\n",
    "\n",
    "# Faire des prédictions sur X_test\n",
    "predictions = model.predict(X_test)\n",
    "\n",
    "# Afficher les prédictions et la performance\n",
    "print(\"Prédictions sur X_test:\", predictions)\n",
    "print(\"Étiquettes réelles sur X_test:\", y_test)\n",
    "\n",
    "# Si vous souhaitez évaluer la précision :\n",
    "from sklearn.metrics import accuracy_score\n",
    "accuracy = accuracy_score(y_test, predictions)\n",
    "print(f\"Accuracy: {accuracy}\")\n"
   ]
  },
  {
   "cell_type": "markdown",
   "metadata": {},
   "source": [
    "**REGRESSION LOGISTIQUE**"
   ]
  },
  {
   "cell_type": "code",
   "execution_count": 19,
   "metadata": {},
   "outputs": [
    {
     "name": "stdout",
     "output_type": "stream",
     "text": [
      "Précision de la régression logistique: 0.9570\n"
     ]
    },
    {
     "name": "stderr",
     "output_type": "stream",
     "text": [
      "C:\\Users\\issad\\Anaconda3.13\\Lib\\site-packages\\sklearn\\linear_model\\_logistic.py:469: ConvergenceWarning: lbfgs failed to converge (status=1):\n",
      "STOP: TOTAL NO. of ITERATIONS REACHED LIMIT.\n",
      "\n",
      "Increase the number of iterations (max_iter) or scale the data as shown in:\n",
      "    https://scikit-learn.org/stable/modules/preprocessing.html\n",
      "Please also refer to the documentation for alternative solver options:\n",
      "    https://scikit-learn.org/stable/modules/linear_model.html#logistic-regression\n",
      "  n_iter_i = _check_optimize_result(\n"
     ]
    }
   ],
   "source": [
    "##la regression logistique\n",
    "# Régression logistique\n",
    "import numpy as np\n",
    "from sklearn.metrics import accuracy_score\n",
    "from sklearn.linear_model import LogisticRegression\n",
    "\n",
    "log_reg = LogisticRegression()\n",
    "log_reg.fit(X_train, y_train)\n",
    "\n",
    "# Évaluation de la régression logistique\n",
    "log_predictions = log_reg.predict(X_test)\n",
    "log_accuracy = accuracy_score(y_test, log_predictions)\n",
    "print(f\"Précision de la régression logistique: {log_accuracy:.4f}\")"
   ]
  },
  {
   "cell_type": "code",
   "execution_count": 156,
   "metadata": {},
   "outputs": [
    {
     "ename": "SyntaxError",
     "evalue": "incomplete input (1706837764.py, line 12)",
     "output_type": "error",
     "traceback": [
      "\u001b[1;36m  Cell \u001b[1;32mIn[156], line 12\u001b[1;36m\u001b[0m\n\u001b[1;33m    \"\"\"y_pred = model.predict(X_test)\u001b[0m\n\u001b[1;37m    ^\u001b[0m\n\u001b[1;31mSyntaxError\u001b[0m\u001b[1;31m:\u001b[0m incomplete input\n"
     ]
    }
   ],
   "source": [
    "import numpy as np\n",
    "from sklearn.linear_model import LogisticRegression\n",
    "from sklearn.preprocessing import StandardScaler\n",
    "from sklearn.metrics import accuracy_score\n",
    "from sklearn.model_selection import train_test_split\n",
    "\n",
    "# Modèle de régression logistique\n",
    "model = LogisticRegression(max_iter=1000)\n",
    "model.fit(X_train, y_train)\n",
    "\n",
    "# Prédictions\n",
    "\"\"\"y_pred = model.predict(X_test)\n",
    "proba = model.predict_proba(X_test)\n",
    "\n",
    "# Affichage des résultats\n",
    "accuracy = accuracy_score(y_test, y_pred)\n",
    "print(f\"Accuracy du modèle : {accuracy*100:.2f}%\")\n",
    "\n",
    "# Affichage des probabilités pour chaque client\n",
    "for i, p in enumerate(proba):\n",
    "    print(f\"Client {i+1} - Probabilité de risque : {p[1]*100:.2f} % (0 = non suspect, 1 = suspect)\")\n"
   ]
  },
  {
   "cell_type": "code",
   "execution_count": 106,
   "metadata": {},
   "outputs": [
    {
     "name": "stdout",
     "output_type": "stream",
     "text": [
      "Collecting customtkinter\n",
      "  Downloading customtkinter-5.2.2-py3-none-any.whl.metadata (677 bytes)\n",
      "Collecting darkdetect (from customtkinter)\n",
      "  Downloading darkdetect-0.8.0-py3-none-any.whl.metadata (3.6 kB)\n",
      "Requirement already satisfied: packaging in c:\\users\\issad\\anaconda3.13\\lib\\site-packages (from customtkinter) (24.1)\n",
      "Downloading customtkinter-5.2.2-py3-none-any.whl (296 kB)\n",
      "Downloading darkdetect-0.8.0-py3-none-any.whl (9.0 kB)\n",
      "Installing collected packages: darkdetect, customtkinter\n",
      "Successfully installed customtkinter-5.2.2 darkdetect-0.8.0\n"
     ]
    }
   ],
   "source": [
    "!pip install customtkinter"
   ]
  },
  {
   "cell_type": "code",
   "execution_count": 108,
   "metadata": {},
   "outputs": [
    {
     "name": "stdout",
     "output_type": "stream",
     "text": [
      "8.6\n"
     ]
    }
   ],
   "source": [
    "import tkinter\n",
    "import customtkinter\n",
    "print(tkinter.TkVersion)\n"
   ]
  },
  {
   "cell_type": "code",
   "execution_count": 109,
   "metadata": {},
   "outputs": [],
   "source": [
    "import tkinter as tk\n"
   ]
  },
  {
   "cell_type": "markdown",
   "metadata": {},
   "source": [
    "**L'interface bon de dao issa**"
   ]
  },
  {
   "cell_type": "code",
   "execution_count": 2,
   "metadata": {},
   "outputs": [],
   "source": [
    "import customtkinter as ctk\n",
    "import numpy as np\n",
    "import random  # utilisé pour la simulation\n",
    "import tkinter.messagebox as messagebox\n",
    "\n",
    "# Initialisation de customtkinter\n",
    "ctk.set_appearance_mode(\"System\")\n",
    "ctk.set_default_color_theme(\"blue\")\n",
    "\n",
    "# Création de la fenêtre principale\n",
    "root = ctk.CTk()\n",
    "root.title(\"Analyse de Risque du Blanchiment de Capitaux d'un client\")\n",
    "root.geometry(\"600x700\")\n",
    "\n",
    "# Labels des variables\n",
    "labels = [\n",
    "    \"Âge\", \"Risque du secteur\", \"Fréquence des dépôts\", \"Fréquence des retraits\",\n",
    "    \"Lieu de résidence\", \"Type de client\", \"Montant des dépôts\", \"Montant des retraits\",\n",
    "    \"Montant reçu\", \"Montant envoyé\", \"Zone de transfert reçu\", \"Zone de transfert envoyé\"\n",
    "]\n",
    "\n",
    "# Stockage des entrées\n",
    "entries = {}\n",
    "\n",
    "# --- En-têtes ---\n",
    "title_label = ctk.CTkLabel(\n",
    "    root,\n",
    "    text=\"LOGICIEL D'ANALYSE DE RISQUE D'UN CLIENT OU DES CLIENTS DE LA BANQUE\",\n",
    "    font=(\"Arial\", 20, \"bold\")\n",
    ")\n",
    "title_label.pack(pady=(10,0))\n",
    "\n",
    "subtitle_label = ctk.CTkLabel(\n",
    "    root, text=\"BLANCHIMENT D'ARGENT\", font=(\"Arial\", 14)\n",
    ")\n",
    "subtitle_label.pack(pady=(0,10))\n",
    "\n",
    "# --- Description ---\n",
    "description_frame = ctk.CTkFrame(root, corner_radius=10)\n",
    "description_frame.pack(pady=10, fill=\"x\", padx=20)\n",
    "ctk.CTkLabel(\n",
    "    description_frame,\n",
    "    text=\"Entrez les informations du client pour évaluer son risque :\",\n",
    "    font=(\"Arial\", 12, \"italic\")\n",
    ").pack(pady=10)\n",
    "\n",
    "# --- Champs de saisie ---\n",
    "data_frame = ctk.CTkFrame(root, corner_radius=10)\n",
    "data_frame.pack(pady=10, padx=20, fill=\"both\", expand=True)\n",
    "\n",
    "for lbl in labels:\n",
    "    row = ctk.CTkFrame(data_frame, corner_radius=10)\n",
    "    row.pack(pady=5, fill=\"x\", padx=10)\n",
    "    ctk.CTkLabel(row, text=f\"{lbl} :\", font=(\"Arial\", 12)).pack(side=\"left\", padx=10)\n",
    "    var = ctk.StringVar()\n",
    "    ent = ctk.CTkEntry(row, textvariable=var, font=(\"Arial\", 12), corner_radius=10)\n",
    "    ent.pack(side=\"right\", fill=\"x\", expand=True, padx=10)\n",
    "    entries[lbl] = ent\n",
    "\n",
    "# --- Fonctions d’action ---\n",
    "def reinitialiser_champs(event=None):\n",
    "    \"\"\"Vide tous les champs (raccourci Ctrl+R).\"\"\"\n",
    "    for ent in entries.values():\n",
    "        ent.delete(0, \"end\")\n",
    "\n",
    "def Apprentissage_profond(event=None):\n",
    "    \"\"\"Exécute le modèle (raccourci Entrée).\"\"\"\n",
    "    try:\n",
    "        # Récupération et conversion\n",
    "        data = [int(entries[l].get()) for l in labels]\n",
    "        DAO = np.array(data).reshape(-1,1)  # transpose si nécessaire\n",
    "\n",
    "        # Simulation de sortie de modèle\n",
    "        F = random.random()\n",
    "        blanchiment = \"Oui\" if F > 0.6 else \"Non\"\n",
    "\n",
    "        # Fenêtre de résultat\n",
    "        win = ctk.CTkToplevel(root)\n",
    "        win.title(\"Résultats\")\n",
    "        ctk.CTkLabel(\n",
    "            win,\n",
    "            text=f\"Pourcentage de risque : {F:.2%}\\nBlanchiment probable : {blanchiment}\",\n",
    "            font=(\"Arial\", 14)\n",
    "        ).pack(pady=20, padx=20)\n",
    "        ctk.CTkButton(win, text=\"Fermer\", command=win.destroy).pack(pady=(0,20))\n",
    "\n",
    "    except ValueError:\n",
    "        messagebox.showerror(\n",
    "            \"Erreur\",\n",
    "            \"Veuillez entrer des valeurs numériques valides dans tous les champs.\"\n",
    "        )\n",
    "\n",
    "# --- Boutons ---\n",
    "button_frame = ctk.CTkFrame(root, corner_radius=10)\n",
    "button_frame.pack(pady=20)\n",
    "\n",
    "btn_exec = ctk.CTkButton(\n",
    "    button_frame,\n",
    "    text=\"Exécuter le modèle    (Entrée)\",\n",
    "    command=Apprentissage_profond,\n",
    "    width=200\n",
    ")\n",
    "btn_exec.pack(side=\"left\", padx=10)\n",
    "\n",
    "btn_reset = ctk.CTkButton(\n",
    "    button_frame,\n",
    "    text=\"Réinitialiser    (Ctrl+R)\",\n",
    "    command=reinitialiser_champs,\n",
    "    fg_color=\"#FF3333\", hover_color=\"#CC0000\",\n",
    "    width=200\n",
    ")\n",
    "btn_reset.pack(side=\"left\", padx=10)\n",
    "\n",
    "btn_close = ctk.CTkButton(\n",
    "    root,\n",
    "    text=\"Fermer    (Échap)\",\n",
    "    command=root.destroy\n",
    ")\n",
    "btn_close.pack(pady=(0,20))\n",
    "\n",
    "# --- Bindings clavier ---\n",
    "root.bind(\"<Return>\", Apprentissage_profond)\n",
    "root.bind(\"<Escape>\", lambda e: root.destroy())\n",
    "root.bind(\"<Control-r>\", reinitialiser_champs)\n",
    "\n",
    "# --- Lancement de l’application ---\n",
    "root.mainloop()\n",
    "\n"
   ]
  },
  {
   "cell_type": "markdown",
   "metadata": {},
   "source": [
    "**Mon teste 07/07/2025**"
   ]
  },
  {
   "cell_type": "markdown",
   "metadata": {},
   "source": [
    "***Mise en œuvre avec SHAP :***"
   ]
  },
  {
   "cell_type": "code",
   "execution_count": 243,
   "metadata": {},
   "outputs": [
    {
     "name": "stdout",
     "output_type": "stream",
     "text": [
      "Collecting shap\n",
      "  Downloading shap-0.48.0-cp312-cp312-win_amd64.whl.metadata (25 kB)\n",
      "Requirement already satisfied: numpy in c:\\users\\issad\\anaconda3.13\\lib\\site-packages (from shap) (1.26.4)\n",
      "Requirement already satisfied: scipy in c:\\users\\issad\\anaconda3.13\\lib\\site-packages (from shap) (1.13.1)\n",
      "Requirement already satisfied: scikit-learn in c:\\users\\issad\\anaconda3.13\\lib\\site-packages (from shap) (1.5.1)\n",
      "Requirement already satisfied: pandas in c:\\users\\issad\\anaconda3.13\\lib\\site-packages (from shap) (2.2.2)\n",
      "Requirement already satisfied: tqdm>=4.27.0 in c:\\users\\issad\\anaconda3.13\\lib\\site-packages (from shap) (4.66.5)\n",
      "Requirement already satisfied: packaging>20.9 in c:\\users\\issad\\anaconda3.13\\lib\\site-packages (from shap) (24.1)\n",
      "Collecting slicer==0.0.8 (from shap)\n",
      "  Downloading slicer-0.0.8-py3-none-any.whl.metadata (4.0 kB)\n",
      "Requirement already satisfied: numba>=0.54 in c:\\users\\issad\\anaconda3.13\\lib\\site-packages (from shap) (0.60.0)\n",
      "Requirement already satisfied: cloudpickle in c:\\users\\issad\\anaconda3.13\\lib\\site-packages (from shap) (3.0.0)\n",
      "Requirement already satisfied: typing-extensions in c:\\users\\issad\\anaconda3.13\\lib\\site-packages (from shap) (4.11.0)\n",
      "Requirement already satisfied: llvmlite<0.44,>=0.43.0dev0 in c:\\users\\issad\\anaconda3.13\\lib\\site-packages (from numba>=0.54->shap) (0.43.0)\n",
      "Requirement already satisfied: colorama in c:\\users\\issad\\anaconda3.13\\lib\\site-packages (from tqdm>=4.27.0->shap) (0.4.6)\n",
      "Requirement already satisfied: python-dateutil>=2.8.2 in c:\\users\\issad\\anaconda3.13\\lib\\site-packages (from pandas->shap) (2.9.0.post0)\n",
      "Requirement already satisfied: pytz>=2020.1 in c:\\users\\issad\\anaconda3.13\\lib\\site-packages (from pandas->shap) (2024.1)\n",
      "Requirement already satisfied: tzdata>=2022.7 in c:\\users\\issad\\anaconda3.13\\lib\\site-packages (from pandas->shap) (2023.3)\n",
      "Requirement already satisfied: joblib>=1.2.0 in c:\\users\\issad\\anaconda3.13\\lib\\site-packages (from scikit-learn->shap) (1.4.2)\n",
      "Requirement already satisfied: threadpoolctl>=3.1.0 in c:\\users\\issad\\anaconda3.13\\lib\\site-packages (from scikit-learn->shap) (3.5.0)\n",
      "Requirement already satisfied: six>=1.5 in c:\\users\\issad\\anaconda3.13\\lib\\site-packages (from python-dateutil>=2.8.2->pandas->shap) (1.16.0)\n",
      "Downloading shap-0.48.0-cp312-cp312-win_amd64.whl (545 kB)\n",
      "   ---------------------------------------- 0.0/545.3 kB ? eta -:--:--\n",
      "   ---------------------------------------- 0.0/545.3 kB ? eta -:--:--\n",
      "   ---------------------------------------- 0.0/545.3 kB ? eta -:--:--\n",
      "   ---------------------------------------- 0.0/545.3 kB ? eta -:--:--\n",
      "   ---------------------------------------- 0.0/545.3 kB ? eta -:--:--\n",
      "   ---------------------------------------- 0.0/545.3 kB ? eta -:--:--\n",
      "   ---------------------------------------- 0.0/545.3 kB ? eta -:--:--\n",
      "   ---------------------------------------- 0.0/545.3 kB ? eta -:--:--\n",
      "   ---------------------------------------- 0.0/545.3 kB ? eta -:--:--\n",
      "   ---------------------------------------- 0.0/545.3 kB ? eta -:--:--\n",
      "   ---------------------------------------- 0.0/545.3 kB ? eta -:--:--\n",
      "   ---------------------------------------- 0.0/545.3 kB ? eta -:--:--\n",
      "   ---------------------------------------- 0.0/545.3 kB ? eta -:--:--\n",
      "   ---------------------------------------- 0.0/545.3 kB ? eta -:--:--\n",
      "   ---------------------------------------- 0.0/545.3 kB ? eta -:--:--\n",
      "   ---------------------------------------- 0.0/545.3 kB ? eta -:--:--\n",
      "   ---------------------------------------- 0.0/545.3 kB ? eta -:--:--\n",
      "   ---------------------------------------- 0.0/545.3 kB ? eta -:--:--\n",
      "   ---------------------------------------- 0.0/545.3 kB ? eta -:--:--\n",
      "   ---------------------------------------- 0.0/545.3 kB ? eta -:--:--\n",
      "   ---------------------------------------- 0.0/545.3 kB ? eta -:--:--\n",
      "   ---------------------------------------- 0.0/545.3 kB ? eta -:--:--\n",
      "   ---------------------------------------- 0.0/545.3 kB ? eta -:--:--\n",
      "   ---------------------------------------- 0.0/545.3 kB ? eta -:--:--\n",
      "   ---------------------------------------- 0.0/545.3 kB ? eta -:--:--\n",
      "   ---------------------------------------- 0.0/545.3 kB ? eta -:--:--\n",
      "   ---------------------------------------- 0.0/545.3 kB ? eta -:--:--\n",
      "   ------------------- -------------------- 262.1/545.3 kB ? eta -:--:--\n",
      "   ------------------- -------------------- 262.1/545.3 kB ? eta -:--:--\n",
      "   ------------------- -------------------- 262.1/545.3 kB ? eta -:--:--\n",
      "   -------------------------------------- 545.3/545.3 kB 421.4 kB/s eta 0:00:00\n",
      "Downloading slicer-0.0.8-py3-none-any.whl (15 kB)\n",
      "Installing collected packages: slicer, shap\n",
      "Successfully installed shap-0.48.0 slicer-0.0.8\n",
      "Collecting lime\n",
      "  Downloading lime-0.2.0.1.tar.gz (275 kB)\n",
      "  Preparing metadata (setup.py): started\n",
      "  Preparing metadata (setup.py): finished with status 'done'\n",
      "Requirement already satisfied: matplotlib in c:\\users\\issad\\anaconda3.13\\lib\\site-packages (from lime) (3.9.2)\n",
      "Requirement already satisfied: numpy in c:\\users\\issad\\anaconda3.13\\lib\\site-packages (from lime) (1.26.4)\n",
      "Requirement already satisfied: scipy in c:\\users\\issad\\anaconda3.13\\lib\\site-packages (from lime) (1.13.1)\n",
      "Requirement already satisfied: tqdm in c:\\users\\issad\\anaconda3.13\\lib\\site-packages (from lime) (4.66.5)\n",
      "Requirement already satisfied: scikit-learn>=0.18 in c:\\users\\issad\\anaconda3.13\\lib\\site-packages (from lime) (1.5.1)\n",
      "Requirement already satisfied: scikit-image>=0.12 in c:\\users\\issad\\anaconda3.13\\lib\\site-packages (from lime) (0.24.0)\n",
      "Requirement already satisfied: networkx>=2.8 in c:\\users\\issad\\anaconda3.13\\lib\\site-packages (from scikit-image>=0.12->lime) (3.3)\n",
      "Requirement already satisfied: pillow>=9.1 in c:\\users\\issad\\anaconda3.13\\lib\\site-packages (from scikit-image>=0.12->lime) (10.4.0)\n",
      "Requirement already satisfied: imageio>=2.33 in c:\\users\\issad\\anaconda3.13\\lib\\site-packages (from scikit-image>=0.12->lime) (2.33.1)\n",
      "Requirement already satisfied: tifffile>=2022.8.12 in c:\\users\\issad\\anaconda3.13\\lib\\site-packages (from scikit-image>=0.12->lime) (2023.4.12)\n",
      "Requirement already satisfied: packaging>=21 in c:\\users\\issad\\anaconda3.13\\lib\\site-packages (from scikit-image>=0.12->lime) (24.1)\n",
      "Requirement already satisfied: lazy-loader>=0.4 in c:\\users\\issad\\anaconda3.13\\lib\\site-packages (from scikit-image>=0.12->lime) (0.4)\n",
      "Requirement already satisfied: joblib>=1.2.0 in c:\\users\\issad\\anaconda3.13\\lib\\site-packages (from scikit-learn>=0.18->lime) (1.4.2)\n",
      "Requirement already satisfied: threadpoolctl>=3.1.0 in c:\\users\\issad\\anaconda3.13\\lib\\site-packages (from scikit-learn>=0.18->lime) (3.5.0)\n",
      "Requirement already satisfied: contourpy>=1.0.1 in c:\\users\\issad\\anaconda3.13\\lib\\site-packages (from matplotlib->lime) (1.2.0)\n",
      "Requirement already satisfied: cycler>=0.10 in c:\\users\\issad\\anaconda3.13\\lib\\site-packages (from matplotlib->lime) (0.11.0)\n",
      "Requirement already satisfied: fonttools>=4.22.0 in c:\\users\\issad\\anaconda3.13\\lib\\site-packages (from matplotlib->lime) (4.51.0)\n",
      "Requirement already satisfied: kiwisolver>=1.3.1 in c:\\users\\issad\\anaconda3.13\\lib\\site-packages (from matplotlib->lime) (1.4.4)\n",
      "Requirement already satisfied: pyparsing>=2.3.1 in c:\\users\\issad\\anaconda3.13\\lib\\site-packages (from matplotlib->lime) (3.1.2)\n",
      "Requirement already satisfied: python-dateutil>=2.7 in c:\\users\\issad\\anaconda3.13\\lib\\site-packages (from matplotlib->lime) (2.9.0.post0)\n",
      "Requirement already satisfied: colorama in c:\\users\\issad\\anaconda3.13\\lib\\site-packages (from tqdm->lime) (0.4.6)\n",
      "Requirement already satisfied: six>=1.5 in c:\\users\\issad\\anaconda3.13\\lib\\site-packages (from python-dateutil>=2.7->matplotlib->lime) (1.16.0)\n",
      "Building wheels for collected packages: lime\n",
      "  Building wheel for lime (setup.py): started\n",
      "  Building wheel for lime (setup.py): finished with status 'done'\n",
      "  Created wheel for lime: filename=lime-0.2.0.1-py3-none-any.whl size=283840 sha256=f7049413427de0e4897ae7cd0c9b717c56b23675d61ae979ef597e6dec4bb37d\n",
      "  Stored in directory: c:\\users\\issad\\appdata\\local\\pip\\cache\\wheels\\e7\\5d\\0e\\4b4fff9a47468fed5633211fb3b76d1db43fe806a17fb7486a\n",
      "Successfully built lime\n",
      "Installing collected packages: lime\n",
      "Successfully installed lime-0.2.0.1\n"
     ]
    },
    {
     "name": "stderr",
     "output_type": "stream",
     "text": [
      "WARNING: Skipping torch as it is not installed.\n",
      "WARNING: Skipping torchvision as it is not installed.\n",
      "WARNING: Skipping torchaudio as it is not installed.\n"
     ]
    }
   ],
   "source": [
    "!pip install shap\n",
    "!pip install lime\n",
    "!pip uninstall torch torchvision torchaudio\n"
   ]
  },
  {
   "cell_type": "code",
   "execution_count": 245,
   "metadata": {},
   "outputs": [
    {
     "name": "stdout",
     "output_type": "stream",
     "text": [
      "Provided model function fails when applied to the provided data set.\n"
     ]
    },
    {
     "ename": "ValueError",
     "evalue": "shapes (12,12) and (70000,12) not aligned: 12 (dim 1) != 70000 (dim 0)",
     "output_type": "error",
     "traceback": [
      "\u001b[1;31m---------------------------------------------------------------------------\u001b[0m",
      "\u001b[1;31mValueError\u001b[0m                                Traceback (most recent call last)",
      "Cell \u001b[1;32mIn[245], line 8\u001b[0m\n\u001b[0;32m      5\u001b[0m X_test_array \u001b[38;5;241m=\u001b[39m X_test \u001b[38;5;28;01mif\u001b[39;00m \u001b[38;5;28misinstance\u001b[39m(X_test, np\u001b[38;5;241m.\u001b[39mndarray) \u001b[38;5;28;01melse\u001b[39;00m X_test\u001b[38;5;241m.\u001b[39mto_numpy()\n\u001b[0;32m      7\u001b[0m \u001b[38;5;66;03m# Créer un explainer SHAP compatible avec tout modèle\u001b[39;00m\n\u001b[1;32m----> 8\u001b[0m explainer \u001b[38;5;241m=\u001b[39m shap\u001b[38;5;241m.\u001b[39mKernelExplainer(modDAO\u001b[38;5;241m.\u001b[39mpredict, X_train_array)\n\u001b[0;32m     10\u001b[0m \u001b[38;5;66;03m# Calcul des valeurs SHAP sur X_test\u001b[39;00m\n\u001b[0;32m     11\u001b[0m shap_values \u001b[38;5;241m=\u001b[39m explainer\u001b[38;5;241m.\u001b[39mshap_values(X_test_array)\n",
      "File \u001b[1;32m~\\Anaconda3.13\\Lib\\site-packages\\shap\\explainers\\_kernel.py:97\u001b[0m, in \u001b[0;36mKernelExplainer.__init__\u001b[1;34m(self, model, data, feature_names, link, **kwargs)\u001b[0m\n\u001b[0;32m     95\u001b[0m \u001b[38;5;28mself\u001b[39m\u001b[38;5;241m.\u001b[39mmodel \u001b[38;5;241m=\u001b[39m convert_to_model(model, keep_index\u001b[38;5;241m=\u001b[39m\u001b[38;5;28mself\u001b[39m\u001b[38;5;241m.\u001b[39mkeep_index)\n\u001b[0;32m     96\u001b[0m \u001b[38;5;28mself\u001b[39m\u001b[38;5;241m.\u001b[39mdata \u001b[38;5;241m=\u001b[39m convert_to_data(data, keep_index\u001b[38;5;241m=\u001b[39m\u001b[38;5;28mself\u001b[39m\u001b[38;5;241m.\u001b[39mkeep_index)\n\u001b[1;32m---> 97\u001b[0m model_null \u001b[38;5;241m=\u001b[39m match_model_to_data(\u001b[38;5;28mself\u001b[39m\u001b[38;5;241m.\u001b[39mmodel, \u001b[38;5;28mself\u001b[39m\u001b[38;5;241m.\u001b[39mdata)\n\u001b[0;32m     99\u001b[0m \u001b[38;5;66;03m# enforce our current input type limitations\u001b[39;00m\n\u001b[0;32m    100\u001b[0m \u001b[38;5;28;01mif\u001b[39;00m \u001b[38;5;129;01mnot\u001b[39;00m \u001b[38;5;28misinstance\u001b[39m(\u001b[38;5;28mself\u001b[39m\u001b[38;5;241m.\u001b[39mdata, (DenseData, SparseData)):\n",
      "File \u001b[1;32m~\\Anaconda3.13\\Lib\\site-packages\\shap\\utils\\_legacy.py:142\u001b[0m, in \u001b[0;36mmatch_model_to_data\u001b[1;34m(model, data)\u001b[0m\n\u001b[0;32m    140\u001b[0m         out_val \u001b[38;5;241m=\u001b[39m model\u001b[38;5;241m.\u001b[39mf(data\u001b[38;5;241m.\u001b[39mconvert_to_df())\n\u001b[0;32m    141\u001b[0m     \u001b[38;5;28;01melse\u001b[39;00m:\n\u001b[1;32m--> 142\u001b[0m         out_val \u001b[38;5;241m=\u001b[39m model\u001b[38;5;241m.\u001b[39mf(data\u001b[38;5;241m.\u001b[39mdata)\n\u001b[0;32m    143\u001b[0m \u001b[38;5;28;01mexcept\u001b[39;00m \u001b[38;5;167;01mException\u001b[39;00m:\n\u001b[0;32m    144\u001b[0m     \u001b[38;5;28mprint\u001b[39m(\u001b[38;5;124m\"\u001b[39m\u001b[38;5;124mProvided model function fails when applied to the provided data set.\u001b[39m\u001b[38;5;124m\"\u001b[39m)\n",
      "Cell \u001b[1;32mIn[224], line 72\u001b[0m, in \u001b[0;36mApprentissageProfondModel.predict\u001b[1;34m(self, X)\u001b[0m\n\u001b[0;32m     71\u001b[0m \u001b[38;5;28;01mdef\u001b[39;00m \u001b[38;5;21mpredict\u001b[39m(\u001b[38;5;28mself\u001b[39m, X):\n\u001b[1;32m---> 72\u001b[0m     y_pred \u001b[38;5;241m=\u001b[39m predict(X, \u001b[38;5;28mself\u001b[39m\u001b[38;5;241m.\u001b[39mparametres)\n\u001b[0;32m     73\u001b[0m     \u001b[38;5;28;01mreturn\u001b[39;00m y_pred\n",
      "Cell \u001b[1;32mIn[224], line 63\u001b[0m, in \u001b[0;36mpredict\u001b[1;34m(X, parametres)\u001b[0m\n\u001b[0;32m     62\u001b[0m \u001b[38;5;28;01mdef\u001b[39;00m \u001b[38;5;21mpredict\u001b[39m(X, parametres):\n\u001b[1;32m---> 63\u001b[0m     activations \u001b[38;5;241m=\u001b[39m forward_propagation(X, parametres)\n\u001b[0;32m     64\u001b[0m     Af \u001b[38;5;241m=\u001b[39m activations[\u001b[38;5;124m'\u001b[39m\u001b[38;5;124mA\u001b[39m\u001b[38;5;124m'\u001b[39m \u001b[38;5;241m+\u001b[39m \u001b[38;5;28mstr\u001b[39m(\u001b[38;5;28mlen\u001b[39m(parametres)\u001b[38;5;241m/\u001b[39m\u001b[38;5;241m/\u001b[39m\u001b[38;5;241m2\u001b[39m)]\n\u001b[0;32m     65\u001b[0m     \u001b[38;5;28;01mreturn\u001b[39;00m (Af \u001b[38;5;241m>\u001b[39m \u001b[38;5;241m0.5\u001b[39m)\u001b[38;5;241m.\u001b[39mastype(\u001b[38;5;28mint\u001b[39m)\u001b[38;5;241m.\u001b[39mT\n",
      "Cell \u001b[1;32mIn[224], line 28\u001b[0m, in \u001b[0;36mforward_propagation\u001b[1;34m(X, parametres)\u001b[0m\n\u001b[0;32m     26\u001b[0m b \u001b[38;5;241m=\u001b[39m parametres[\u001b[38;5;124m'\u001b[39m\u001b[38;5;124mb\u001b[39m\u001b[38;5;124m'\u001b[39m \u001b[38;5;241m+\u001b[39m \u001b[38;5;28mstr\u001b[39m(c)]\n\u001b[0;32m     27\u001b[0m A_prev \u001b[38;5;241m=\u001b[39m activations[\u001b[38;5;124m'\u001b[39m\u001b[38;5;124mA\u001b[39m\u001b[38;5;124m'\u001b[39m \u001b[38;5;241m+\u001b[39m \u001b[38;5;28mstr\u001b[39m(c\u001b[38;5;241m-\u001b[39m\u001b[38;5;241m1\u001b[39m)]\n\u001b[1;32m---> 28\u001b[0m Z \u001b[38;5;241m=\u001b[39m np\u001b[38;5;241m.\u001b[39mdot(W, A_prev) \u001b[38;5;241m+\u001b[39m b\n\u001b[0;32m     29\u001b[0m A \u001b[38;5;241m=\u001b[39m sigmoid(Z)\n\u001b[0;32m     30\u001b[0m activations[\u001b[38;5;124m'\u001b[39m\u001b[38;5;124mZ\u001b[39m\u001b[38;5;124m'\u001b[39m \u001b[38;5;241m+\u001b[39m \u001b[38;5;28mstr\u001b[39m(c)] \u001b[38;5;241m=\u001b[39m Z\n",
      "\u001b[1;31mValueError\u001b[0m: shapes (12,12) and (70000,12) not aligned: 12 (dim 1) != 70000 (dim 0)"
     ]
    }
   ],
   "source": [
    "import shap\n",
    "\n",
    "# Convertir X_train et X_test en tableaux numpy si ce n’est pas déjà fait\n",
    "X_train_array = X_train if isinstance(X_train, np.ndarray) else X_train.to_numpy()\n",
    "X_test_array = X_test if isinstance(X_test, np.ndarray) else X_test.to_numpy()\n",
    "\n",
    "# Créer un explainer SHAP compatible avec tout modèle\n",
    "explainer = shap.KernelExplainer(modDAO.predict, X_train_array)\n",
    "\n",
    "# Calcul des valeurs SHAP sur X_test\n",
    "shap_values = explainer.shap_values(X_test_array)\n",
    "\n",
    "# Visualisation\n",
    "shap.summary_plot(shap_values, X_test_array)"
   ]
  },
  {
   "cell_type": "code",
   "execution_count": 57,
   "metadata": {},
   "outputs": [
    {
     "ename": "NameError",
     "evalue": "name 'feature_names' is not defined",
     "output_type": "error",
     "traceback": [
      "\u001b[1;31m---------------------------------------------------------------------------\u001b[0m",
      "\u001b[1;31mNameError\u001b[0m                                 Traceback (most recent call last)",
      "\u001b[1;32m<ipython-input-57-684824f4e2c9>\u001b[0m in \u001b[0;36m<module>\u001b[1;34m\u001b[0m\n\u001b[0;32m      3\u001b[0m \u001b[1;33m\u001b[0m\u001b[0m\n\u001b[0;32m      4\u001b[0m explainer = lime.lime_tabular.LimeTabularExplainer(X_train,\n\u001b[1;32m----> 5\u001b[1;33m                                                    \u001b[0mfeature_names\u001b[0m\u001b[1;33m=\u001b[0m\u001b[0mfeature_names\u001b[0m\u001b[1;33m,\u001b[0m\u001b[1;33m\u001b[0m\u001b[1;33m\u001b[0m\u001b[0m\n\u001b[0m\u001b[0;32m      6\u001b[0m                                                    \u001b[0mclass_names\u001b[0m\u001b[1;33m=\u001b[0m\u001b[1;33m[\u001b[0m\u001b[1;34m'Non blanchiment'\u001b[0m\u001b[1;33m,\u001b[0m \u001b[1;34m'Blanchiment'\u001b[0m\u001b[1;33m]\u001b[0m\u001b[1;33m,\u001b[0m\u001b[1;33m\u001b[0m\u001b[1;33m\u001b[0m\u001b[0m\n\u001b[0;32m      7\u001b[0m                                                    mode='classification')\n",
      "\u001b[1;31mNameError\u001b[0m: name 'feature_names' is not defined"
     ]
    }
   ],
   "source": [
    "import lime\n",
    "import lime.lime_tabular\n",
    "\n",
    "explainer = lime.lime_tabular.LimeTabularExplainer(X_train,\n",
    "                                                   feature_names=feature_names,\n",
    "                                                   class_names=['Non blanchiment', 'Blanchiment'],\n",
    "                                                   mode='classification')\n",
    "\n",
    "# Explication pour une instance spécifique\n",
    "exp = explainer.explain_instance(X_test.iloc[0].values, ISSA.predict_proba, num_features=10)\n",
    "exp.show_in_notebook(show_table=True)"
   ]
  },
  {
   "cell_type": "code",
   "execution_count": 157,
   "metadata": {},
   "outputs": [
    {
     "ename": "NameError",
     "evalue": "name 'RiskAnalysisApp' is not defined",
     "output_type": "error",
     "traceback": [
      "\u001b[1;31m---------------------------------------------------------------------------\u001b[0m",
      "\u001b[1;31mNameError\u001b[0m                                 Traceback (most recent call last)",
      "Cell \u001b[1;32mIn[157], line 79\u001b[0m\n\u001b[0;32m     74\u001b[0m             \u001b[38;5;28mself\u001b[39m\u001b[38;5;241m.\u001b[39mtraining_history[i, \u001b[38;5;241m1\u001b[39m] \u001b[38;5;241m=\u001b[39m accuracy_score(y_train\u001b[38;5;241m.\u001b[39mflatten(), y_pred\u001b[38;5;241m.\u001b[39mflatten())\n\u001b[0;32m     76\u001b[0m         \u001b[38;5;28;01mreturn\u001b[39;00m \u001b[38;5;28mself\u001b[39m\u001b[38;5;241m.\u001b[39mtraining_history\n\u001b[1;32m---> 79\u001b[0m \u001b[38;5;28;01mclass\u001b[39;00m \u001b[38;5;21;01mRiskAnalysisApp\u001b[39;00m:\n\u001b[0;32m     80\u001b[0m     \u001b[38;5;28;01mdef\u001b[39;00m \u001b[38;5;21m__init__\u001b[39m(\u001b[38;5;28mself\u001b[39m, root):\n\u001b[0;32m     81\u001b[0m         \u001b[38;5;28mself\u001b[39m\u001b[38;5;241m.\u001b[39mroot \u001b[38;5;241m=\u001b[39m root\n",
      "Cell \u001b[1;32mIn[157], line 133\u001b[0m, in \u001b[0;36mRiskAnalysisApp\u001b[1;34m()\u001b[0m\n\u001b[0;32m    131\u001b[0m \u001b[38;5;28;01mif\u001b[39;00m \u001b[38;5;18m__name__\u001b[39m \u001b[38;5;241m==\u001b[39m \u001b[38;5;124m\"\u001b[39m\u001b[38;5;124m__main__\u001b[39m\u001b[38;5;124m\"\u001b[39m:\n\u001b[0;32m    132\u001b[0m     root \u001b[38;5;241m=\u001b[39m ctk\u001b[38;5;241m.\u001b[39mCTk()\n\u001b[1;32m--> 133\u001b[0m     app \u001b[38;5;241m=\u001b[39m RiskAnalysisApp(root)\n\u001b[0;32m    134\u001b[0m     root\u001b[38;5;241m.\u001b[39mmainloop()\n",
      "\u001b[1;31mNameError\u001b[0m: name 'RiskAnalysisApp' is not defined"
     ]
    }
   ],
   "source": [
    "import customtkinter as ctk\n",
    "import numpy as np\n",
    "from sklearn.metrics import accuracy_score, log_loss\n",
    "from tqdm import tqdm\n",
    "import matplotlib.pyplot as plt\n",
    "\n",
    "\n",
    "class DeepNeuralNetwork:\n",
    "    def __init__(self, input_size, hidden_layers=(32, 32, 16), output_size=1):\n",
    "        \"\"\"Initialisation du modèle\"\"\"\n",
    "        self.dimensions = [input_size] + list(hidden_layers) + [output_size]\n",
    "        self.parameters = self._initialize_parameters()\n",
    "        self.training_history = None\n",
    "    \n",
    "    def _initialize_parameters(self):\n",
    "        \"\"\"Initialisation des paramètres\"\"\"\n",
    "        parameters = {}\n",
    "        np.random.seed(1)\n",
    "        \n",
    "        for c in range(1, len(self.dimensions)):\n",
    "            parameters[f'W{c}'] = np.random.randn(self.dimensions[c], self.dimensions[c-1]) * 0.01\n",
    "            parameters[f'b{c}'] = np.zeros((self.dimensions[c], 1))\n",
    "            \n",
    "        return parameters\n",
    "    \n",
    "    def forward_propagation(self, X):\n",
    "        \"\"\"Propagation avant\"\"\"\n",
    "        activations = {'A0': X}\n",
    "        C = len(self.parameters) // 2\n",
    "        \n",
    "        for c in range(1, C + 1):\n",
    "            Z = np.dot(self.parameters[f'W{c}'], activations[f'A{c-1}']) + self.parameters[f'b{c}']\n",
    "            activations[f'A{c}'] = 1 / (1 + np.exp(-np.clip(Z, -700, 700)))\n",
    "            \n",
    "        return activations\n",
    "    \n",
    "    def predict(self, X, threshold=0.5):\n",
    "        \"\"\"Prédiction\"\"\"\n",
    "        activations = self.forward_propagation(X)\n",
    "        C = len(self.parameters) // 2\n",
    "        Af = activations[f'A{C}']\n",
    "        return (Af >= threshold).astype(int)\n",
    "    \n",
    "    def train(self, X_train, y_train, learning_rate=0.02, n_iter=1000):\n",
    "        \"\"\"Entraînement du modèle\"\"\"\n",
    "        self.training_history = np.zeros((n_iter, 2))\n",
    "        C = len(self.parameters) // 2\n",
    "        \n",
    "        for i in tqdm(range(n_iter)):\n",
    "            # Propagation avant\n",
    "            activations = self.forward_propagation(X_train)\n",
    "            Af = activations[f'A{C}']\n",
    "            \n",
    "            # Retropropagation (version simplifiée)\n",
    "            m = y_train.shape[1]\n",
    "            dZ = Af - y_train\n",
    "            gradients = {}\n",
    "            \n",
    "            for c in reversed(range(1, C + 1)):\n",
    "                gradients[f'dW{c}'] = (1/m) * np.dot(dZ, activations[f'A{c-1}'].T)\n",
    "                gradients[f'db{c}'] = (1/m) * np.sum(dZ, axis=1, keepdims=True)\n",
    "                \n",
    "                if c > 1:\n",
    "                    dZ = np.dot(self.parameters[f'W{c}'].T, dZ) * activations[f'A{c-1}'] * (1 - activations[f'A{c-1}'])\n",
    "            \n",
    "            # Mise à jour des paramètres\n",
    "            for c in range(1, C + 1):\n",
    "                self.parameters[f'W{c}'] -= learning_rate * gradients[f'dW{c}']\n",
    "                self.parameters[f'b{c}'] -= learning_rate * gradients[f'db{c}']\n",
    "            \n",
    "            # Calcul des métriques\n",
    "            self.training_history[i, 0] = log_loss(y_train.flatten(), Af.flatten())\n",
    "            y_pred = self.predict(X_train)\n",
    "            self.training_history[i, 1] = accuracy_score(y_train.flatten(), y_pred.flatten())\n",
    "        \n",
    "        return self.training_history\n",
    "\n",
    "\n",
    "class RiskAnalysisApp:\n",
    "    def __init__(self, root):\n",
    "        self.root = root\n",
    "        self.model = None\n",
    "        self.setup_ui()\n",
    "        self.load_model()\n",
    "    \n",
    "    def setup_ui(self):\n",
    "        \"\"\"Configuration de l'interface\"\"\"\n",
    "        self.root.title(\"Analyse de Risque de Blanchiment\")\n",
    "        self.root.geometry(\"600x700\")\n",
    "        \n",
    "        # [Le reste de votre code d'interface graphique...]\n",
    "        # ... (conservez votre code existant pour les labels, entries, etc.)\n",
    "        \n",
    "        # Ajoutez ce bouton pour tester le modèle\n",
    "        test_button = ctk.CTkButton(self.root, \n",
    "                                  text=\"Tester le modèle\", \n",
    "                                  command=self.test_model)\n",
    "        test_button.pack(pady=10)\n",
    "    \n",
    "    def load_model(self):\n",
    "        \n",
    "        input_size = 12  \n",
    "        self.modDAO = DeepNeuralNetwork(input_size=input_size, \n",
    "                                     hidden_layers=(12, 12), \n",
    "                                     output_size=1)\n",
    "        \n",
    "        # Entraînement (à remplacer par votre vrai entraînement)\n",
    "        print(\"Entraînement du modèle...\")\n",
    "        self.modDAO.train(X_train, y_train, n_iter=500)\n",
    "        print(\"Modèle entraîné!\")\n",
    "    \n",
    "    def test_model(self):\n",
    "        \"\"\"Teste le modèle et affiche la précision\"\"\"\n",
    "        if self.model is None:\n",
    "            print(\"Modèle non chargé!\")\n",
    "            return\n",
    "        \n",
    "        # Prédiction et calcul de la précision\n",
    "        predictions = self.modDAO.predict(X_test)\n",
    "        acc = accuracy_score(y_test.flatten(), predictions.flatten())\n",
    "        \n",
    "        # Affichage dans une fenêtre popup\n",
    "        result_window = ctk.CTkToplevel(self.root)\n",
    "        result_window.title(\"Résultats du test\")\n",
    "        ctk.CTkLabel(result_window, \n",
    "                    text=f\"Précision du modèle: {acc:.2%}\", \n",
    "                    font=(\"Arial\", 14)).pack(pady=20)\n",
    "        ctk.CTkButton(result_window, \n",
    "                     text=\"Fermer\", \n",
    "                     command=result_window.destroy).pack(pady=10)\n",
    "    if __name__ == \"__main__\":\n",
    "        root = ctk.CTk()\n",
    "        app = RiskAnalysisApp(root)\n",
    "        root.mainloop()"
   ]
  },
  {
   "cell_type": "code",
   "execution_count": null,
   "metadata": {},
   "outputs": [],
   "source": []
  }
 ],
 "metadata": {
  "interpreter": {
   "hash": "038c04557dfd72b4d6039cb7951b93ffe7520921b6515cb88d8784deedfaf89f"
  },
  "kernelspec": {
   "display_name": "Python 3 (ipykernel)",
   "language": "python",
   "name": "python3"
  },
  "language_info": {
   "codemirror_mode": {
    "name": "ipython",
    "version": 3
   },
   "file_extension": ".py",
   "mimetype": "text/x-python",
   "name": "python",
   "nbconvert_exporter": "python",
   "pygments_lexer": "ipython3",
   "version": "3.12.7"
  }
 },
 "nbformat": 4,
 "nbformat_minor": 4
}
